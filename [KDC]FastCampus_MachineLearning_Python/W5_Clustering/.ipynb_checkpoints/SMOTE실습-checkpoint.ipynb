{
 "cells": [
  {
   "cell_type": "code",
   "execution_count": 3,
   "metadata": {
    "scrolled": true
   },
   "outputs": [
    {
     "data": {
      "text/html": [
       "<div>\n",
       "<style scoped>\n",
       "    .dataframe tbody tr th:only-of-type {\n",
       "        vertical-align: middle;\n",
       "    }\n",
       "\n",
       "    .dataframe tbody tr th {\n",
       "        vertical-align: top;\n",
       "    }\n",
       "\n",
       "    .dataframe thead th {\n",
       "        text-align: right;\n",
       "    }\n",
       "</style>\n",
       "<table border=\"1\" class=\"dataframe\">\n",
       "  <thead>\n",
       "    <tr style=\"text-align: right;\">\n",
       "      <th></th>\n",
       "      <th>Time</th>\n",
       "      <th>V1</th>\n",
       "      <th>V2</th>\n",
       "      <th>V3</th>\n",
       "      <th>V4</th>\n",
       "      <th>V5</th>\n",
       "      <th>V6</th>\n",
       "      <th>V7</th>\n",
       "      <th>V8</th>\n",
       "      <th>V9</th>\n",
       "      <th>...</th>\n",
       "      <th>V21</th>\n",
       "      <th>V22</th>\n",
       "      <th>V23</th>\n",
       "      <th>V24</th>\n",
       "      <th>V25</th>\n",
       "      <th>V26</th>\n",
       "      <th>V27</th>\n",
       "      <th>V28</th>\n",
       "      <th>Amount</th>\n",
       "      <th>Class</th>\n",
       "    </tr>\n",
       "  </thead>\n",
       "  <tbody>\n",
       "    <tr>\n",
       "      <th>0</th>\n",
       "      <td>0.0</td>\n",
       "      <td>-1.359807</td>\n",
       "      <td>-0.072781</td>\n",
       "      <td>2.536347</td>\n",
       "      <td>1.378155</td>\n",
       "      <td>-0.338321</td>\n",
       "      <td>0.462388</td>\n",
       "      <td>0.239599</td>\n",
       "      <td>0.098698</td>\n",
       "      <td>0.363787</td>\n",
       "      <td>...</td>\n",
       "      <td>-0.018307</td>\n",
       "      <td>0.277838</td>\n",
       "      <td>-0.110474</td>\n",
       "      <td>0.066928</td>\n",
       "      <td>0.128539</td>\n",
       "      <td>-0.189115</td>\n",
       "      <td>0.133558</td>\n",
       "      <td>-0.021053</td>\n",
       "      <td>149.62</td>\n",
       "      <td>0</td>\n",
       "    </tr>\n",
       "    <tr>\n",
       "      <th>1</th>\n",
       "      <td>0.0</td>\n",
       "      <td>1.191857</td>\n",
       "      <td>0.266151</td>\n",
       "      <td>0.166480</td>\n",
       "      <td>0.448154</td>\n",
       "      <td>0.060018</td>\n",
       "      <td>-0.082361</td>\n",
       "      <td>-0.078803</td>\n",
       "      <td>0.085102</td>\n",
       "      <td>-0.255425</td>\n",
       "      <td>...</td>\n",
       "      <td>-0.225775</td>\n",
       "      <td>-0.638672</td>\n",
       "      <td>0.101288</td>\n",
       "      <td>-0.339846</td>\n",
       "      <td>0.167170</td>\n",
       "      <td>0.125895</td>\n",
       "      <td>-0.008983</td>\n",
       "      <td>0.014724</td>\n",
       "      <td>2.69</td>\n",
       "      <td>0</td>\n",
       "    </tr>\n",
       "    <tr>\n",
       "      <th>2</th>\n",
       "      <td>1.0</td>\n",
       "      <td>-1.358354</td>\n",
       "      <td>-1.340163</td>\n",
       "      <td>1.773209</td>\n",
       "      <td>0.379780</td>\n",
       "      <td>-0.503198</td>\n",
       "      <td>1.800499</td>\n",
       "      <td>0.791461</td>\n",
       "      <td>0.247676</td>\n",
       "      <td>-1.514654</td>\n",
       "      <td>...</td>\n",
       "      <td>0.247998</td>\n",
       "      <td>0.771679</td>\n",
       "      <td>0.909412</td>\n",
       "      <td>-0.689281</td>\n",
       "      <td>-0.327642</td>\n",
       "      <td>-0.139097</td>\n",
       "      <td>-0.055353</td>\n",
       "      <td>-0.059752</td>\n",
       "      <td>378.66</td>\n",
       "      <td>0</td>\n",
       "    </tr>\n",
       "    <tr>\n",
       "      <th>3</th>\n",
       "      <td>1.0</td>\n",
       "      <td>-0.966272</td>\n",
       "      <td>-0.185226</td>\n",
       "      <td>1.792993</td>\n",
       "      <td>-0.863291</td>\n",
       "      <td>-0.010309</td>\n",
       "      <td>1.247203</td>\n",
       "      <td>0.237609</td>\n",
       "      <td>0.377436</td>\n",
       "      <td>-1.387024</td>\n",
       "      <td>...</td>\n",
       "      <td>-0.108300</td>\n",
       "      <td>0.005274</td>\n",
       "      <td>-0.190321</td>\n",
       "      <td>-1.175575</td>\n",
       "      <td>0.647376</td>\n",
       "      <td>-0.221929</td>\n",
       "      <td>0.062723</td>\n",
       "      <td>0.061458</td>\n",
       "      <td>123.50</td>\n",
       "      <td>0</td>\n",
       "    </tr>\n",
       "    <tr>\n",
       "      <th>4</th>\n",
       "      <td>2.0</td>\n",
       "      <td>-1.158233</td>\n",
       "      <td>0.877737</td>\n",
       "      <td>1.548718</td>\n",
       "      <td>0.403034</td>\n",
       "      <td>-0.407193</td>\n",
       "      <td>0.095921</td>\n",
       "      <td>0.592941</td>\n",
       "      <td>-0.270533</td>\n",
       "      <td>0.817739</td>\n",
       "      <td>...</td>\n",
       "      <td>-0.009431</td>\n",
       "      <td>0.798278</td>\n",
       "      <td>-0.137458</td>\n",
       "      <td>0.141267</td>\n",
       "      <td>-0.206010</td>\n",
       "      <td>0.502292</td>\n",
       "      <td>0.219422</td>\n",
       "      <td>0.215153</td>\n",
       "      <td>69.99</td>\n",
       "      <td>0</td>\n",
       "    </tr>\n",
       "  </tbody>\n",
       "</table>\n",
       "<p>5 rows × 31 columns</p>\n",
       "</div>"
      ],
      "text/plain": [
       "   Time        V1        V2        V3        V4        V5        V6        V7  \\\n",
       "0   0.0 -1.359807 -0.072781  2.536347  1.378155 -0.338321  0.462388  0.239599   \n",
       "1   0.0  1.191857  0.266151  0.166480  0.448154  0.060018 -0.082361 -0.078803   \n",
       "2   1.0 -1.358354 -1.340163  1.773209  0.379780 -0.503198  1.800499  0.791461   \n",
       "3   1.0 -0.966272 -0.185226  1.792993 -0.863291 -0.010309  1.247203  0.237609   \n",
       "4   2.0 -1.158233  0.877737  1.548718  0.403034 -0.407193  0.095921  0.592941   \n",
       "\n",
       "         V8        V9  ...       V21       V22       V23       V24       V25  \\\n",
       "0  0.098698  0.363787  ... -0.018307  0.277838 -0.110474  0.066928  0.128539   \n",
       "1  0.085102 -0.255425  ... -0.225775 -0.638672  0.101288 -0.339846  0.167170   \n",
       "2  0.247676 -1.514654  ...  0.247998  0.771679  0.909412 -0.689281 -0.327642   \n",
       "3  0.377436 -1.387024  ... -0.108300  0.005274 -0.190321 -1.175575  0.647376   \n",
       "4 -0.270533  0.817739  ... -0.009431  0.798278 -0.137458  0.141267 -0.206010   \n",
       "\n",
       "        V26       V27       V28  Amount  Class  \n",
       "0 -0.189115  0.133558 -0.021053  149.62      0  \n",
       "1  0.125895 -0.008983  0.014724    2.69      0  \n",
       "2 -0.139097 -0.055353 -0.059752  378.66      0  \n",
       "3 -0.221929  0.062723  0.061458  123.50      0  \n",
       "4  0.502292  0.219422  0.215153   69.99      0  \n",
       "\n",
       "[5 rows x 31 columns]"
      ]
     },
     "execution_count": 3,
     "metadata": {},
     "output_type": "execute_result"
    }
   ],
   "source": [
    "# 신용카드를 사용하고 갚지 않는 문제를 가지고 있는 사람을 잡는 것 \n",
    "import numpy as np\n",
    "import pandas as pd\n",
    "data=pd.read_csv(\"../../../creditcard.csv\")\n",
    "data.head()"
   ]
  },
  {
   "cell_type": "code",
   "execution_count": 4,
   "metadata": {},
   "outputs": [
    {
     "data": {
      "text/html": [
       "<div>\n",
       "<style scoped>\n",
       "    .dataframe tbody tr th:only-of-type {\n",
       "        vertical-align: middle;\n",
       "    }\n",
       "\n",
       "    .dataframe tbody tr th {\n",
       "        vertical-align: top;\n",
       "    }\n",
       "\n",
       "    .dataframe thead th {\n",
       "        text-align: right;\n",
       "    }\n",
       "</style>\n",
       "<table border=\"1\" class=\"dataframe\">\n",
       "  <thead>\n",
       "    <tr style=\"text-align: right;\">\n",
       "      <th></th>\n",
       "      <th>V1</th>\n",
       "      <th>V2</th>\n",
       "      <th>V3</th>\n",
       "      <th>V4</th>\n",
       "      <th>V5</th>\n",
       "      <th>V6</th>\n",
       "      <th>V7</th>\n",
       "      <th>V8</th>\n",
       "      <th>V9</th>\n",
       "      <th>V10</th>\n",
       "      <th>...</th>\n",
       "      <th>V20</th>\n",
       "      <th>V21</th>\n",
       "      <th>V22</th>\n",
       "      <th>V23</th>\n",
       "      <th>V24</th>\n",
       "      <th>V25</th>\n",
       "      <th>V26</th>\n",
       "      <th>V27</th>\n",
       "      <th>V28</th>\n",
       "      <th>Class</th>\n",
       "    </tr>\n",
       "  </thead>\n",
       "  <tbody>\n",
       "    <tr>\n",
       "      <th>0</th>\n",
       "      <td>-1.359807</td>\n",
       "      <td>-0.072781</td>\n",
       "      <td>2.536347</td>\n",
       "      <td>1.378155</td>\n",
       "      <td>-0.338321</td>\n",
       "      <td>0.462388</td>\n",
       "      <td>0.239599</td>\n",
       "      <td>0.098698</td>\n",
       "      <td>0.363787</td>\n",
       "      <td>0.090794</td>\n",
       "      <td>...</td>\n",
       "      <td>0.251412</td>\n",
       "      <td>-0.018307</td>\n",
       "      <td>0.277838</td>\n",
       "      <td>-0.110474</td>\n",
       "      <td>0.066928</td>\n",
       "      <td>0.128539</td>\n",
       "      <td>-0.189115</td>\n",
       "      <td>0.133558</td>\n",
       "      <td>-0.021053</td>\n",
       "      <td>0</td>\n",
       "    </tr>\n",
       "    <tr>\n",
       "      <th>1</th>\n",
       "      <td>1.191857</td>\n",
       "      <td>0.266151</td>\n",
       "      <td>0.166480</td>\n",
       "      <td>0.448154</td>\n",
       "      <td>0.060018</td>\n",
       "      <td>-0.082361</td>\n",
       "      <td>-0.078803</td>\n",
       "      <td>0.085102</td>\n",
       "      <td>-0.255425</td>\n",
       "      <td>-0.166974</td>\n",
       "      <td>...</td>\n",
       "      <td>-0.069083</td>\n",
       "      <td>-0.225775</td>\n",
       "      <td>-0.638672</td>\n",
       "      <td>0.101288</td>\n",
       "      <td>-0.339846</td>\n",
       "      <td>0.167170</td>\n",
       "      <td>0.125895</td>\n",
       "      <td>-0.008983</td>\n",
       "      <td>0.014724</td>\n",
       "      <td>0</td>\n",
       "    </tr>\n",
       "    <tr>\n",
       "      <th>2</th>\n",
       "      <td>-1.358354</td>\n",
       "      <td>-1.340163</td>\n",
       "      <td>1.773209</td>\n",
       "      <td>0.379780</td>\n",
       "      <td>-0.503198</td>\n",
       "      <td>1.800499</td>\n",
       "      <td>0.791461</td>\n",
       "      <td>0.247676</td>\n",
       "      <td>-1.514654</td>\n",
       "      <td>0.207643</td>\n",
       "      <td>...</td>\n",
       "      <td>0.524980</td>\n",
       "      <td>0.247998</td>\n",
       "      <td>0.771679</td>\n",
       "      <td>0.909412</td>\n",
       "      <td>-0.689281</td>\n",
       "      <td>-0.327642</td>\n",
       "      <td>-0.139097</td>\n",
       "      <td>-0.055353</td>\n",
       "      <td>-0.059752</td>\n",
       "      <td>0</td>\n",
       "    </tr>\n",
       "    <tr>\n",
       "      <th>3</th>\n",
       "      <td>-0.966272</td>\n",
       "      <td>-0.185226</td>\n",
       "      <td>1.792993</td>\n",
       "      <td>-0.863291</td>\n",
       "      <td>-0.010309</td>\n",
       "      <td>1.247203</td>\n",
       "      <td>0.237609</td>\n",
       "      <td>0.377436</td>\n",
       "      <td>-1.387024</td>\n",
       "      <td>-0.054952</td>\n",
       "      <td>...</td>\n",
       "      <td>-0.208038</td>\n",
       "      <td>-0.108300</td>\n",
       "      <td>0.005274</td>\n",
       "      <td>-0.190321</td>\n",
       "      <td>-1.175575</td>\n",
       "      <td>0.647376</td>\n",
       "      <td>-0.221929</td>\n",
       "      <td>0.062723</td>\n",
       "      <td>0.061458</td>\n",
       "      <td>0</td>\n",
       "    </tr>\n",
       "    <tr>\n",
       "      <th>4</th>\n",
       "      <td>-1.158233</td>\n",
       "      <td>0.877737</td>\n",
       "      <td>1.548718</td>\n",
       "      <td>0.403034</td>\n",
       "      <td>-0.407193</td>\n",
       "      <td>0.095921</td>\n",
       "      <td>0.592941</td>\n",
       "      <td>-0.270533</td>\n",
       "      <td>0.817739</td>\n",
       "      <td>0.753074</td>\n",
       "      <td>...</td>\n",
       "      <td>0.408542</td>\n",
       "      <td>-0.009431</td>\n",
       "      <td>0.798278</td>\n",
       "      <td>-0.137458</td>\n",
       "      <td>0.141267</td>\n",
       "      <td>-0.206010</td>\n",
       "      <td>0.502292</td>\n",
       "      <td>0.219422</td>\n",
       "      <td>0.215153</td>\n",
       "      <td>0</td>\n",
       "    </tr>\n",
       "  </tbody>\n",
       "</table>\n",
       "<p>5 rows × 29 columns</p>\n",
       "</div>"
      ],
      "text/plain": [
       "         V1        V2        V3        V4        V5        V6        V7  \\\n",
       "0 -1.359807 -0.072781  2.536347  1.378155 -0.338321  0.462388  0.239599   \n",
       "1  1.191857  0.266151  0.166480  0.448154  0.060018 -0.082361 -0.078803   \n",
       "2 -1.358354 -1.340163  1.773209  0.379780 -0.503198  1.800499  0.791461   \n",
       "3 -0.966272 -0.185226  1.792993 -0.863291 -0.010309  1.247203  0.237609   \n",
       "4 -1.158233  0.877737  1.548718  0.403034 -0.407193  0.095921  0.592941   \n",
       "\n",
       "         V8        V9       V10  ...       V20       V21       V22       V23  \\\n",
       "0  0.098698  0.363787  0.090794  ...  0.251412 -0.018307  0.277838 -0.110474   \n",
       "1  0.085102 -0.255425 -0.166974  ... -0.069083 -0.225775 -0.638672  0.101288   \n",
       "2  0.247676 -1.514654  0.207643  ...  0.524980  0.247998  0.771679  0.909412   \n",
       "3  0.377436 -1.387024 -0.054952  ... -0.208038 -0.108300  0.005274 -0.190321   \n",
       "4 -0.270533  0.817739  0.753074  ...  0.408542 -0.009431  0.798278 -0.137458   \n",
       "\n",
       "        V24       V25       V26       V27       V28  Class  \n",
       "0  0.066928  0.128539 -0.189115  0.133558 -0.021053      0  \n",
       "1 -0.339846  0.167170  0.125895 -0.008983  0.014724      0  \n",
       "2 -0.689281 -0.327642 -0.139097 -0.055353 -0.059752      0  \n",
       "3 -1.175575  0.647376 -0.221929  0.062723  0.061458      0  \n",
       "4  0.141267 -0.206010  0.502292  0.219422  0.215153      0  \n",
       "\n",
       "[5 rows x 29 columns]"
      ]
     },
     "execution_count": 4,
     "metadata": {},
     "output_type": "execute_result"
    }
   ],
   "source": [
    "data=data.drop(['Time','Amount'],axis=1)\n",
    "data.head()"
   ]
  },
  {
   "cell_type": "markdown",
   "metadata": {},
   "source": [
    "#### Data - Credit Card Fraud Detection Data\n",
    "1. 28개의 컬럼으로 구성\n",
    "2. 타겟변수는 Class (0, 1 ; 이진분류)"
   ]
  },
  {
   "cell_type": "code",
   "execution_count": 5,
   "metadata": {},
   "outputs": [
    {
     "data": {
      "text/plain": [
       "V1       False\n",
       "V2       False\n",
       "V3       False\n",
       "V4       False\n",
       "V5       False\n",
       "V6       False\n",
       "V7       False\n",
       "V8       False\n",
       "V9       False\n",
       "V10      False\n",
       "V11      False\n",
       "V12      False\n",
       "V13      False\n",
       "V14      False\n",
       "V15      False\n",
       "V16      False\n",
       "V17      False\n",
       "V18      False\n",
       "V19      False\n",
       "V20      False\n",
       "V21      False\n",
       "V22      False\n",
       "V23      False\n",
       "V24      False\n",
       "V25      False\n",
       "V26      False\n",
       "V27      False\n",
       "V28      False\n",
       "Class    False\n",
       "dtype: bool"
      ]
     },
     "execution_count": 5,
     "metadata": {},
     "output_type": "execute_result"
    }
   ],
   "source": [
    "# 데이터 내 NA값 여부 확인\n",
    "data.isnull().any() # 만약 존재한다면 0으로 대체 혹은, 해당 열을 제외하고 진행"
   ]
  },
  {
   "cell_type": "code",
   "execution_count": 6,
   "metadata": {},
   "outputs": [
    {
     "name": "stdout",
     "output_type": "stream",
     "text": [
      "Credit Card Fraud Detection data -  rows: 284807  columns: 29\n"
     ]
    }
   ],
   "source": [
    "print(\"Credit Card Fraud Detection data -  rows:\",data.shape[0],\" columns:\", data.shape[1])"
   ]
  },
  {
   "cell_type": "code",
   "execution_count": 7,
   "metadata": {},
   "outputs": [
    {
     "data": {
      "text/html": [
       "<div>\n",
       "<style scoped>\n",
       "    .dataframe tbody tr th:only-of-type {\n",
       "        vertical-align: middle;\n",
       "    }\n",
       "\n",
       "    .dataframe tbody tr th {\n",
       "        vertical-align: top;\n",
       "    }\n",
       "\n",
       "    .dataframe thead th {\n",
       "        text-align: right;\n",
       "    }\n",
       "</style>\n",
       "<table border=\"1\" class=\"dataframe\">\n",
       "  <thead>\n",
       "    <tr style=\"text-align: right;\">\n",
       "      <th></th>\n",
       "      <th>V1</th>\n",
       "      <th>V2</th>\n",
       "      <th>V3</th>\n",
       "      <th>V4</th>\n",
       "      <th>V5</th>\n",
       "      <th>V6</th>\n",
       "      <th>V7</th>\n",
       "      <th>V8</th>\n",
       "      <th>V9</th>\n",
       "      <th>V10</th>\n",
       "      <th>...</th>\n",
       "      <th>V20</th>\n",
       "      <th>V21</th>\n",
       "      <th>V22</th>\n",
       "      <th>V23</th>\n",
       "      <th>V24</th>\n",
       "      <th>V25</th>\n",
       "      <th>V26</th>\n",
       "      <th>V27</th>\n",
       "      <th>V28</th>\n",
       "      <th>Class</th>\n",
       "    </tr>\n",
       "  </thead>\n",
       "  <tbody>\n",
       "    <tr>\n",
       "      <th>count</th>\n",
       "      <td>2.848070e+05</td>\n",
       "      <td>2.848070e+05</td>\n",
       "      <td>2.848070e+05</td>\n",
       "      <td>2.848070e+05</td>\n",
       "      <td>2.848070e+05</td>\n",
       "      <td>2.848070e+05</td>\n",
       "      <td>2.848070e+05</td>\n",
       "      <td>2.848070e+05</td>\n",
       "      <td>2.848070e+05</td>\n",
       "      <td>2.848070e+05</td>\n",
       "      <td>...</td>\n",
       "      <td>2.848070e+05</td>\n",
       "      <td>2.848070e+05</td>\n",
       "      <td>2.848070e+05</td>\n",
       "      <td>2.848070e+05</td>\n",
       "      <td>2.848070e+05</td>\n",
       "      <td>2.848070e+05</td>\n",
       "      <td>2.848070e+05</td>\n",
       "      <td>2.848070e+05</td>\n",
       "      <td>2.848070e+05</td>\n",
       "      <td>284807.000000</td>\n",
       "    </tr>\n",
       "    <tr>\n",
       "      <th>mean</th>\n",
       "      <td>3.918649e-15</td>\n",
       "      <td>5.682686e-16</td>\n",
       "      <td>-8.761736e-15</td>\n",
       "      <td>2.811118e-15</td>\n",
       "      <td>-1.552103e-15</td>\n",
       "      <td>2.040130e-15</td>\n",
       "      <td>-1.698953e-15</td>\n",
       "      <td>-1.893285e-16</td>\n",
       "      <td>-3.147640e-15</td>\n",
       "      <td>1.772925e-15</td>\n",
       "      <td>...</td>\n",
       "      <td>5.126845e-16</td>\n",
       "      <td>1.473120e-16</td>\n",
       "      <td>8.042109e-16</td>\n",
       "      <td>5.282512e-16</td>\n",
       "      <td>4.456271e-15</td>\n",
       "      <td>1.426896e-15</td>\n",
       "      <td>1.701640e-15</td>\n",
       "      <td>-3.662252e-16</td>\n",
       "      <td>-1.217809e-16</td>\n",
       "      <td>0.001727</td>\n",
       "    </tr>\n",
       "    <tr>\n",
       "      <th>std</th>\n",
       "      <td>1.958696e+00</td>\n",
       "      <td>1.651309e+00</td>\n",
       "      <td>1.516255e+00</td>\n",
       "      <td>1.415869e+00</td>\n",
       "      <td>1.380247e+00</td>\n",
       "      <td>1.332271e+00</td>\n",
       "      <td>1.237094e+00</td>\n",
       "      <td>1.194353e+00</td>\n",
       "      <td>1.098632e+00</td>\n",
       "      <td>1.088850e+00</td>\n",
       "      <td>...</td>\n",
       "      <td>7.709250e-01</td>\n",
       "      <td>7.345240e-01</td>\n",
       "      <td>7.257016e-01</td>\n",
       "      <td>6.244603e-01</td>\n",
       "      <td>6.056471e-01</td>\n",
       "      <td>5.212781e-01</td>\n",
       "      <td>4.822270e-01</td>\n",
       "      <td>4.036325e-01</td>\n",
       "      <td>3.300833e-01</td>\n",
       "      <td>0.041527</td>\n",
       "    </tr>\n",
       "    <tr>\n",
       "      <th>min</th>\n",
       "      <td>-5.640751e+01</td>\n",
       "      <td>-7.271573e+01</td>\n",
       "      <td>-4.832559e+01</td>\n",
       "      <td>-5.683171e+00</td>\n",
       "      <td>-1.137433e+02</td>\n",
       "      <td>-2.616051e+01</td>\n",
       "      <td>-4.355724e+01</td>\n",
       "      <td>-7.321672e+01</td>\n",
       "      <td>-1.343407e+01</td>\n",
       "      <td>-2.458826e+01</td>\n",
       "      <td>...</td>\n",
       "      <td>-5.449772e+01</td>\n",
       "      <td>-3.483038e+01</td>\n",
       "      <td>-1.093314e+01</td>\n",
       "      <td>-4.480774e+01</td>\n",
       "      <td>-2.836627e+00</td>\n",
       "      <td>-1.029540e+01</td>\n",
       "      <td>-2.604551e+00</td>\n",
       "      <td>-2.256568e+01</td>\n",
       "      <td>-1.543008e+01</td>\n",
       "      <td>0.000000</td>\n",
       "    </tr>\n",
       "    <tr>\n",
       "      <th>25%</th>\n",
       "      <td>-9.203734e-01</td>\n",
       "      <td>-5.985499e-01</td>\n",
       "      <td>-8.903648e-01</td>\n",
       "      <td>-8.486401e-01</td>\n",
       "      <td>-6.915971e-01</td>\n",
       "      <td>-7.682956e-01</td>\n",
       "      <td>-5.540759e-01</td>\n",
       "      <td>-2.086297e-01</td>\n",
       "      <td>-6.430976e-01</td>\n",
       "      <td>-5.354257e-01</td>\n",
       "      <td>...</td>\n",
       "      <td>-2.117214e-01</td>\n",
       "      <td>-2.283949e-01</td>\n",
       "      <td>-5.423504e-01</td>\n",
       "      <td>-1.618463e-01</td>\n",
       "      <td>-3.545861e-01</td>\n",
       "      <td>-3.171451e-01</td>\n",
       "      <td>-3.269839e-01</td>\n",
       "      <td>-7.083953e-02</td>\n",
       "      <td>-5.295979e-02</td>\n",
       "      <td>0.000000</td>\n",
       "    </tr>\n",
       "    <tr>\n",
       "      <th>50%</th>\n",
       "      <td>1.810880e-02</td>\n",
       "      <td>6.548556e-02</td>\n",
       "      <td>1.798463e-01</td>\n",
       "      <td>-1.984653e-02</td>\n",
       "      <td>-5.433583e-02</td>\n",
       "      <td>-2.741871e-01</td>\n",
       "      <td>4.010308e-02</td>\n",
       "      <td>2.235804e-02</td>\n",
       "      <td>-5.142873e-02</td>\n",
       "      <td>-9.291738e-02</td>\n",
       "      <td>...</td>\n",
       "      <td>-6.248109e-02</td>\n",
       "      <td>-2.945017e-02</td>\n",
       "      <td>6.781943e-03</td>\n",
       "      <td>-1.119293e-02</td>\n",
       "      <td>4.097606e-02</td>\n",
       "      <td>1.659350e-02</td>\n",
       "      <td>-5.213911e-02</td>\n",
       "      <td>1.342146e-03</td>\n",
       "      <td>1.124383e-02</td>\n",
       "      <td>0.000000</td>\n",
       "    </tr>\n",
       "    <tr>\n",
       "      <th>75%</th>\n",
       "      <td>1.315642e+00</td>\n",
       "      <td>8.037239e-01</td>\n",
       "      <td>1.027196e+00</td>\n",
       "      <td>7.433413e-01</td>\n",
       "      <td>6.119264e-01</td>\n",
       "      <td>3.985649e-01</td>\n",
       "      <td>5.704361e-01</td>\n",
       "      <td>3.273459e-01</td>\n",
       "      <td>5.971390e-01</td>\n",
       "      <td>4.539234e-01</td>\n",
       "      <td>...</td>\n",
       "      <td>1.330408e-01</td>\n",
       "      <td>1.863772e-01</td>\n",
       "      <td>5.285536e-01</td>\n",
       "      <td>1.476421e-01</td>\n",
       "      <td>4.395266e-01</td>\n",
       "      <td>3.507156e-01</td>\n",
       "      <td>2.409522e-01</td>\n",
       "      <td>9.104512e-02</td>\n",
       "      <td>7.827995e-02</td>\n",
       "      <td>0.000000</td>\n",
       "    </tr>\n",
       "    <tr>\n",
       "      <th>max</th>\n",
       "      <td>2.454930e+00</td>\n",
       "      <td>2.205773e+01</td>\n",
       "      <td>9.382558e+00</td>\n",
       "      <td>1.687534e+01</td>\n",
       "      <td>3.480167e+01</td>\n",
       "      <td>7.330163e+01</td>\n",
       "      <td>1.205895e+02</td>\n",
       "      <td>2.000721e+01</td>\n",
       "      <td>1.559499e+01</td>\n",
       "      <td>2.374514e+01</td>\n",
       "      <td>...</td>\n",
       "      <td>3.942090e+01</td>\n",
       "      <td>2.720284e+01</td>\n",
       "      <td>1.050309e+01</td>\n",
       "      <td>2.252841e+01</td>\n",
       "      <td>4.584549e+00</td>\n",
       "      <td>7.519589e+00</td>\n",
       "      <td>3.517346e+00</td>\n",
       "      <td>3.161220e+01</td>\n",
       "      <td>3.384781e+01</td>\n",
       "      <td>1.000000</td>\n",
       "    </tr>\n",
       "  </tbody>\n",
       "</table>\n",
       "<p>8 rows × 29 columns</p>\n",
       "</div>"
      ],
      "text/plain": [
       "                 V1            V2            V3            V4            V5  \\\n",
       "count  2.848070e+05  2.848070e+05  2.848070e+05  2.848070e+05  2.848070e+05   \n",
       "mean   3.918649e-15  5.682686e-16 -8.761736e-15  2.811118e-15 -1.552103e-15   \n",
       "std    1.958696e+00  1.651309e+00  1.516255e+00  1.415869e+00  1.380247e+00   \n",
       "min   -5.640751e+01 -7.271573e+01 -4.832559e+01 -5.683171e+00 -1.137433e+02   \n",
       "25%   -9.203734e-01 -5.985499e-01 -8.903648e-01 -8.486401e-01 -6.915971e-01   \n",
       "50%    1.810880e-02  6.548556e-02  1.798463e-01 -1.984653e-02 -5.433583e-02   \n",
       "75%    1.315642e+00  8.037239e-01  1.027196e+00  7.433413e-01  6.119264e-01   \n",
       "max    2.454930e+00  2.205773e+01  9.382558e+00  1.687534e+01  3.480167e+01   \n",
       "\n",
       "                 V6            V7            V8            V9           V10  \\\n",
       "count  2.848070e+05  2.848070e+05  2.848070e+05  2.848070e+05  2.848070e+05   \n",
       "mean   2.040130e-15 -1.698953e-15 -1.893285e-16 -3.147640e-15  1.772925e-15   \n",
       "std    1.332271e+00  1.237094e+00  1.194353e+00  1.098632e+00  1.088850e+00   \n",
       "min   -2.616051e+01 -4.355724e+01 -7.321672e+01 -1.343407e+01 -2.458826e+01   \n",
       "25%   -7.682956e-01 -5.540759e-01 -2.086297e-01 -6.430976e-01 -5.354257e-01   \n",
       "50%   -2.741871e-01  4.010308e-02  2.235804e-02 -5.142873e-02 -9.291738e-02   \n",
       "75%    3.985649e-01  5.704361e-01  3.273459e-01  5.971390e-01  4.539234e-01   \n",
       "max    7.330163e+01  1.205895e+02  2.000721e+01  1.559499e+01  2.374514e+01   \n",
       "\n",
       "       ...           V20           V21           V22           V23  \\\n",
       "count  ...  2.848070e+05  2.848070e+05  2.848070e+05  2.848070e+05   \n",
       "mean   ...  5.126845e-16  1.473120e-16  8.042109e-16  5.282512e-16   \n",
       "std    ...  7.709250e-01  7.345240e-01  7.257016e-01  6.244603e-01   \n",
       "min    ... -5.449772e+01 -3.483038e+01 -1.093314e+01 -4.480774e+01   \n",
       "25%    ... -2.117214e-01 -2.283949e-01 -5.423504e-01 -1.618463e-01   \n",
       "50%    ... -6.248109e-02 -2.945017e-02  6.781943e-03 -1.119293e-02   \n",
       "75%    ...  1.330408e-01  1.863772e-01  5.285536e-01  1.476421e-01   \n",
       "max    ...  3.942090e+01  2.720284e+01  1.050309e+01  2.252841e+01   \n",
       "\n",
       "                V24           V25           V26           V27           V28  \\\n",
       "count  2.848070e+05  2.848070e+05  2.848070e+05  2.848070e+05  2.848070e+05   \n",
       "mean   4.456271e-15  1.426896e-15  1.701640e-15 -3.662252e-16 -1.217809e-16   \n",
       "std    6.056471e-01  5.212781e-01  4.822270e-01  4.036325e-01  3.300833e-01   \n",
       "min   -2.836627e+00 -1.029540e+01 -2.604551e+00 -2.256568e+01 -1.543008e+01   \n",
       "25%   -3.545861e-01 -3.171451e-01 -3.269839e-01 -7.083953e-02 -5.295979e-02   \n",
       "50%    4.097606e-02  1.659350e-02 -5.213911e-02  1.342146e-03  1.124383e-02   \n",
       "75%    4.395266e-01  3.507156e-01  2.409522e-01  9.104512e-02  7.827995e-02   \n",
       "max    4.584549e+00  7.519589e+00  3.517346e+00  3.161220e+01  3.384781e+01   \n",
       "\n",
       "               Class  \n",
       "count  284807.000000  \n",
       "mean        0.001727  \n",
       "std         0.041527  \n",
       "min         0.000000  \n",
       "25%         0.000000  \n",
       "50%         0.000000  \n",
       "75%         0.000000  \n",
       "max         1.000000  \n",
       "\n",
       "[8 rows x 29 columns]"
      ]
     },
     "execution_count": 7,
     "metadata": {},
     "output_type": "execute_result"
    }
   ],
   "source": [
    "data.describe() # 요약 통계량"
   ]
  },
  {
   "cell_type": "code",
   "execution_count": 9,
   "metadata": {},
   "outputs": [
    {
     "data": {
      "text/plain": [
       "Counter({0: 284315, 1: 492})"
      ]
     },
     "execution_count": 9,
     "metadata": {},
     "output_type": "execute_result"
    }
   ],
   "source": [
    "# 종속 변수의 분포 확인\n",
    "# class imbalance\n",
    "from collections import Counter\n",
    "Counter(data.Class)"
   ]
  },
  {
   "cell_type": "code",
   "execution_count": 11,
   "metadata": {},
   "outputs": [
    {
     "data": {
      "image/png": "[encoded data removed]",
      "text/plain": [
       "<Figure size 792x1080 with 1 Axes>"
      ]
     },
     "metadata": {},
     "output_type": "display_data"
    }
   ],
   "source": [
    "# EDA - 데이터 분포 확인가능\n",
    "import seaborn as sns\n",
    "import matplotlib.pyplot as plt\n",
    "%matplotlib inline\n",
    "\n",
    "# plot을 구글링을 해서 코드를 사용 \n",
    "# 블로그나 깃헙에 붙여넣어두기 \n",
    "# 자주 쓰는것 블로그 비공개 포스팅, 혹은 깃헙 비공개용으로 올려서 사용\n",
    "\n",
    "plt.style.use('ggplot') # Using ggplot2 style visuals \n",
    "f, ax = plt.subplots(figsize = (11, 15)) # 그래프 사이즈\n",
    "\n",
    "ax.set_facecolor('#fafafa') # 그래프 색상값\n",
    "ax.set(xlim = (-5, 5)) # X축 범위\n",
    "plt.ylabel('Variables') # Y축 이름\n",
    "plt.title(\"Overview Data Set\") # 그래프 제목\n",
    "ax = sns.boxplot(data = data.drop(columns = ['Class']), # V1 ~ V28 확인\n",
    "                 orient = 'h', \n",
    "                 palette = 'Set2')"
   ]
  },
  {
   "cell_type": "code",
   "execution_count": 8,
   "metadata": {},
   "outputs": [
    {
     "data": {
      "text/plain": [
       "<Figure size 432x288 with 0 Axes>"
      ]
     },
     "metadata": {},
     "output_type": "display_data"
    },
    {
     "data": {
      "image/png": "[encoded data removed]",
      "text/plain": [
       "<Figure size 1152x2016 with 28 Axes>"
      ]
     },
     "metadata": {},
     "output_type": "display_data"
    }
   ],
   "source": [
    "# class1 의 데이터 양이 충분히 많이 뽑아내지 않아서 완벽하게 예측을 하기는 어렵다 \n",
    "var = data.columns.values[:-1] # V1 ~ V28\n",
    "i = 0\n",
    "t0 = data.loc[data['Class'] == 0] # Class : 0 인 행만 추출\n",
    "t1 = data.loc[data['Class'] == 1] # Class : 1 인 행만 추출\n",
    "\n",
    "sns.set_style('whitegrid') # 그래프 스타일 지정\n",
    "plt.figure()\n",
    "fig, ax = plt.subplots(8, 4, figsize = (16, 28)) # 축 지정\n",
    "\n",
    "for feature in var:\n",
    "    i += 1\n",
    "    plt.subplot(7, 4, i) # 28개의 그래프\n",
    "    sns.kdeplot(t0[feature], bw = 0.5, label = \"Class = 0\")\n",
    "    sns.kdeplot(t1[feature], bw = 0.5, label = \"Class = 1\")\n",
    "    plt.xlabel(feature, fontsize = 12) # 라벨 속성값\n",
    "    locs, labels = plt.xticks()\n",
    "    plt.tick_params(axis = 'both', which = 'major', labelsize = 12)\n",
    "plt.show();"
   ]
  },
  {
   "cell_type": "markdown",
   "metadata": {},
   "source": [
    "#### 각 변수 별 그래프를 타겟변수에 대해서 그려보았을 떄 차이가 있는 변수들은 다음과 같이 정의할 수 있다.\n",
    "- 1) 타겟 변수에 대해 분포 차이가 많이 나는 변수 : V4, V11\n",
    "- 2) 타겟 변수에 대해 분포 차이가 비교적 많이 존재하는 변수 : V12, V14, V18\n",
    "- 3) 타겟 변수에 대해 분포 차이가 비교적 적게 존재하는 변수 : V1, V2, V3, V10"
   ]
  },
  {
   "cell_type": "code",
   "execution_count": 12,
   "metadata": {},
   "outputs": [
    {
     "name": "stdout",
     "output_type": "stream",
     "text": [
      "Shape of X: (284807, 28)\n",
      "Shape of y: (284807, 1)\n"
     ]
    }
   ],
   "source": [
    "X = np.array(data.iloc[:, data.columns != 'Class'])\n",
    "y = np.array(data.iloc[:, data.columns == 'Class'])\n",
    "print(\"Shape of X: {}\".format(X.shape))\n",
    "print(\"Shape of y: {}\".format(y.shape))\n",
    "\n",
    "# a = 1에 넣는것 \n",
    "# a != 1 과 같지 않니라고 물어보는 것 \n",
    "# a == 1 와 같냐고 물어보는 것 \n",
    "# 행은 전부 가져와! \n"
   ]
  },
  {
   "cell_type": "code",
   "execution_count": 13,
   "metadata": {
    "scrolled": true
   },
   "outputs": [
    {
     "name": "stdout",
     "output_type": "stream",
     "text": [
      "Number transactions X_train dataset:  (227845, 28)\n",
      "Number transactions y_train dataset:  (227845, 1)\n",
      "Number transactions X_test dataset:  (56962, 28)\n",
      "Number transactions y_test dataset:  (56962, 1)\n"
     ]
    }
   ],
   "source": [
    "from sklearn.model_selection import train_test_split\n",
    "X_train, X_test, y_train, y_test = train_test_split(X, y, test_size = 0.2, random_state = 0)\n",
    "print(\"Number transactions X_train dataset: \", X_train.shape)\n",
    "print(\"Number transactions y_train dataset: \", y_train.shape)\n",
    "print(\"Number transactions X_test dataset: \", X_test.shape)\n",
    "print(\"Number transactions y_test dataset: \", y_test.shape)"
   ]
  },
  {
   "cell_type": "code",
   "execution_count": 14,
   "metadata": {},
   "outputs": [],
   "source": [
    "# confusion matrix를 만들고 안에 있는 정보를 가지고 만듦 \n",
    "\n",
    "def model_evaluation(label, predict):\n",
    "    cf_matrix = confusion_matrix(label, predict)\n",
    "    Accuracy = (cf_matrix[0][0] + cf_matrix[1][1]) / sum(sum(cf_matrix))\n",
    "    Precision = cf_matrix[1][1] / (cf_matrix[1][1] + cf_matrix[0][1])\n",
    "    Recall = cf_matrix[1][1] / (cf_matrix[1][1] + cf_matrix[1][0])\n",
    "    F1_Score = (2 * Recall * Precision) / (Recall + Precision)\n",
    "    print(\"Model_Evaluation with Label:1\")\n",
    "    print(\"Accuracy: \", Accuracy)\n",
    "    print(\"Precision: \", Precision)\n",
    "    print(\"Recall: \", Recall)\n",
    "    print(\"F1-Score: \", F1_Score)"
   ]
  },
  {
   "cell_type": "markdown",
   "metadata": {},
   "source": [
    "# Light GBM을 기본 모델로 설정"
   ]
  },
  {
   "cell_type": "code",
   "execution_count": 15,
   "metadata": {},
   "outputs": [
    {
     "name": "stderr",
     "output_type": "stream",
     "text": [
      "/Users/kimjuwon/opt/anaconda3/lib/python3.8/site-packages/lightgbm/engine.py:148: UserWarning: Found `n_estimators` in params. Will use it instead of argument\n",
      "  _log_warning(\"Found `{}` in params. Will use it instead of argument\".format(alias))\n"
     ]
    },
    {
     "name": "stdout",
     "output_type": "stream",
     "text": [
      "[LightGBM] [Warning] Accuracy may be bad since you didn't explicitly set num_leaves OR 2^max_depth > num_leaves. (num_leaves=31).\n",
      "[LightGBM] [Warning] Accuracy may be bad since you didn't explicitly set num_leaves OR 2^max_depth > num_leaves. (num_leaves=31).\n",
      "[LightGBM] [Warning] Auto-choosing col-wise multi-threading, the overhead of testing was 0.018158 seconds.\n",
      "You can set `force_col_wise=true` to remove the overhead.\n",
      "[LightGBM] [Info] Total Bins 7140\n",
      "[LightGBM] [Info] Number of data points in the train set: 227845, number of used features: 28\n",
      "[LightGBM] [Info] Start training from score -0.001718\n",
      "[LightGBM] [Info] Start training from score -6.367713\n",
      "Model_Evaluation with Label:1\n",
      "Accuracy:  0.9991748885221726\n",
      "Precision:  0.921875\n",
      "Recall:  0.5841584158415841\n",
      "F1-Score:  0.7151515151515151\n"
     ]
    }
   ],
   "source": [
    "from sklearn.metrics import confusion_matrix\n",
    "import lightgbm as lgb\n",
    "lgb_dtrain = lgb.Dataset(data = pd.DataFrame(X_train), label = pd.DataFrame(y_train)) # 학습 데이터를 LightGBM 모델에 맞게 변환\n",
    "lgb_param = {'max_depth': 10, # 트리 깊이\n",
    "            'learning_rate': 0.01, # Step Size\n",
    "            'n_estimators': 50, # Number of trees, 트리 생성 개수\n",
    "            'objective': 'multiclass', # 목적 함수\n",
    "            'num_class': len(set(pd.DataFrame(y_train))) + 1} # 파라미터 추가, Label must be in [0, num_class) -> num_class보다 1 커야한다.\n",
    "lgb_model = lgb.train(params = lgb_param, train_set = lgb_dtrain) # 학습 진행\n",
    "lgb_model_predict = np.argmax(lgb_model.predict(X_test), axis = 1) # 평가 데이터 예측, Softmax의 결과값 중 가장 큰 값의 Label로 예측\n",
    "model_evaluation(y_test, lgb_model_predict) # 모델 분류 결과 평가"
   ]
  },
  {
   "cell_type": "code",
   "execution_count": 16,
   "metadata": {},
   "outputs": [
    {
     "data": {
      "text/plain": [
       "array([[0.99889325, 0.00110675],\n",
       "       [0.99891568, 0.00108432],\n",
       "       [0.99538877, 0.00461123],\n",
       "       ...,\n",
       "       [0.99891568, 0.00108432],\n",
       "       [0.99891568, 0.00108432],\n",
       "       [0.99891568, 0.00108432]])"
      ]
     },
     "execution_count": 16,
     "metadata": {},
     "output_type": "execute_result"
    }
   ],
   "source": [
    "lgb_model.predict(X_test)"
   ]
  },
  {
   "cell_type": "code",
   "execution_count": 17,
   "metadata": {},
   "outputs": [
    {
     "name": "stderr",
     "output_type": "stream",
     "text": [
      "/Users/kimjuwon/opt/anaconda3/lib/python3.8/site-packages/lightgbm/engine.py:148: UserWarning: Found `n_estimators` in params. Will use it instead of argument\n",
      "  _log_warning(\"Found `{}` in params. Will use it instead of argument\".format(alias))\n"
     ]
    },
    {
     "name": "stdout",
     "output_type": "stream",
     "text": [
      "[LightGBM] [Warning] Accuracy may be bad since you didn't explicitly set num_leaves OR 2^max_depth > num_leaves. (num_leaves=31).\n",
      "[LightGBM] [Warning] Accuracy may be bad since you didn't explicitly set num_leaves OR 2^max_depth > num_leaves. (num_leaves=31).\n",
      "[LightGBM] [Info] Number of positive: 391, number of negative: 227454\n",
      "[LightGBM] [Warning] Auto-choosing col-wise multi-threading, the overhead of testing was 0.014844 seconds.\n",
      "You can set `force_col_wise=true` to remove the overhead.\n",
      "[LightGBM] [Info] Total Bins 7140\n",
      "[LightGBM] [Info] Number of data points in the train set: 227845, number of used features: 28\n",
      "[LightGBM] [Info] [binary:BoostFromScore]: pavg=0.001716 -> initscore=-6.365996\n",
      "[LightGBM] [Info] Start training from score -6.365996\n",
      "Model_Evaluation with Label:1\n",
      "Accuracy:  0.9991748885221726\n",
      "Precision:  0.921875\n",
      "Recall:  0.5841584158415841\n",
      "F1-Score:  0.7151515151515151\n"
     ]
    }
   ],
   "source": [
    "from sklearn.metrics import confusion_matrix\n",
    "import lightgbm as lgb\n",
    "lgb_dtrain = lgb.Dataset(data = pd.DataFrame(X_train), label = pd.DataFrame(y_train)) # 학습 데이터를 LightGBM 모델에 맞게 변환\n",
    "lgb_param = {'max_depth': 10, # 트리 깊이\n",
    "            'learning_rate': 0.01, # Step Size\n",
    "            'n_estimators': 50, # Number of trees, 트리 생성 개수\n",
    "            'objective': 'binary'} # 파라미터 추가, Label must be in [0, num_class) -> num_class보다 1 커야한다.\n",
    "lgb_model = lgb.train(params = lgb_param, train_set = lgb_dtrain) # 학습 진행\n",
    "pred= np.repeat(0, len(y_test))\n",
    "pred[lgb_model.predict(X_test) >0.5] =1\n",
    "model_evaluation(y_test, pred)\n"
   ]
  },
  {
   "cell_type": "markdown",
   "metadata": {},
   "source": [
    "# SMOTE을 이용해서 Oversampling을 진행해보자!"
   ]
  },
  {
   "cell_type": "code",
   "execution_count": 18,
   "metadata": {},
   "outputs": [
    {
     "name": "stdout",
     "output_type": "stream",
     "text": [
      "Number transactions X_train dataset:  (227845, 28)\n",
      "Number transactions y_train dataset:  (227845, 1)\n",
      "Number transactions X_test dataset:  (56962, 28)\n",
      "Number transactions y_test dataset:  (56962, 1)\n"
     ]
    }
   ],
   "source": [
    "# 기존의 X_train, y_train, X_test, y_test의 형태 확인\n",
    "print(\"Number transactions X_train dataset: \", X_train.shape)\n",
    "print(\"Number transactions y_train dataset: \", y_train.shape)\n",
    "print(\"Number transactions X_test dataset: \", X_test.shape)\n",
    "print(\"Number transactions y_test dataset: \", y_test.shape)"
   ]
  },
  {
   "cell_type": "code",
   "execution_count": 23,
   "metadata": {},
   "outputs": [
    {
     "name": "stdout",
     "output_type": "stream",
     "text": [
      "Before OverSampling, counts of label '1': [391]\n",
      "Before OverSampling, counts of label '0': [227454] \n",
      "\n",
      "After OverSampling, counts of label '1': 68236\n",
      "After OverSampling, counts of label '0': 227454\n"
     ]
    }
   ],
   "source": [
    "from imblearn.over_sampling import SMOTE\n",
    "print(\"Before OverSampling, counts of label '1': {}\".format(sum(y_train == 1))) # y_train 중 레이블 값이 1인 데이터의 개수\n",
    "print(\"Before OverSampling, counts of label '0': {} \\n\".format(sum(y_train == 0))) # y_train 중 레이블 값이 0 인 데이터의 개수\n",
    "\n",
    "#30 퍼센트로 증가 시켜라 \n",
    "sm = SMOTE(random_state = 42, sampling_strategy = 0.3) # SMOTE 알고리즘, 비율 증가\n",
    "X_train_res, y_train_res = sm.fit_resample(X_train, y_train.ravel()) # Over Sampling 진행\n",
    "\n",
    "print(\"After OverSampling, counts of label '1': {}\".format(sum(y_train_res==1)))\n",
    "print(\"After OverSampling, counts of label '0': {}\".format(sum(y_train_res==0)))\n",
    "\n",
    "# sampling_strategy가 차이가 많이남, 30퍼센트를 의미 "
   ]
  },
  {
   "cell_type": "code",
   "execution_count": 24,
   "metadata": {},
   "outputs": [
    {
     "name": "stdout",
     "output_type": "stream",
     "text": [
      "Before OverSampling, the shape of X_train: (227845, 28)\n",
      "Before OverSampling, the shape of y_train: (227845, 1)\n",
      "After OverSampling, the shape of X_train: (295690, 28)\n",
      "After OverSampling, the shape of y_train: (295690,)\n"
     ]
    }
   ],
   "source": [
    "print(\"Before OverSampling, the shape of X_train: {}\".format(X_train.shape)) # SMOTE 적용 이전 데이터 형태\n",
    "print(\"Before OverSampling, the shape of y_train: {}\".format(y_train.shape)) # SMOTE 적용 이전 데이터 형태\n",
    "print('After OverSampling, the shape of X_train: {}'.format(X_train_res.shape)) # SMOTE 적용 결과 확인\n",
    "print('After OverSampling, the shape of y_train: {}'.format(y_train_res.shape)) # # SMOTE 적용 결과 확인"
   ]
  },
  {
   "cell_type": "code",
   "execution_count": 25,
   "metadata": {},
   "outputs": [
    {
     "name": "stdout",
     "output_type": "stream",
     "text": [
      "[LightGBM] [Warning] Accuracy may be bad since you didn't explicitly set num_leaves OR 2^max_depth > num_leaves. (num_leaves=31).\n"
     ]
    },
    {
     "name": "stderr",
     "output_type": "stream",
     "text": [
      "/Users/kimjuwon/opt/anaconda3/lib/python3.8/site-packages/lightgbm/engine.py:148: UserWarning: Found `n_estimators` in params. Will use it instead of argument\n",
      "  _log_warning(\"Found `{}` in params. Will use it instead of argument\".format(alias))\n"
     ]
    },
    {
     "name": "stdout",
     "output_type": "stream",
     "text": [
      "[LightGBM] [Warning] Accuracy may be bad since you didn't explicitly set num_leaves OR 2^max_depth > num_leaves. (num_leaves=31).\n",
      "[LightGBM] [Warning] Auto-choosing col-wise multi-threading, the overhead of testing was 0.016838 seconds.\n",
      "You can set `force_col_wise=true` to remove the overhead.\n",
      "[LightGBM] [Info] Total Bins 7140\n",
      "[LightGBM] [Info] Number of data points in the train set: 295690, number of used features: 28\n",
      "[LightGBM] [Info] Start training from score -0.262364\n",
      "[LightGBM] [Info] Start training from score -1.466339\n",
      "Model_Evaluation with Label:1\n",
      "Accuracy:  0.9990695551420246\n",
      "Precision:  0.6967213114754098\n",
      "Recall:  0.8415841584158416\n",
      "F1-Score:  0.7623318385650223\n"
     ]
    }
   ],
   "source": [
    "lgb_dtrain2 = lgb.Dataset(data = pd.DataFrame(X_train_res), label = pd.DataFrame(y_train_res)) # 학습 데이터를 LightGBM 모델에 맞게 변환\n",
    "lgb_param2 = {'max_depth': 10, # 트리 깊이\n",
    "            'learning_rate': 0.01, # Step Size\n",
    "            'n_estimators': 50, # Number of trees, 트리 생성 개수\n",
    "            'objective': 'multiclass', # 목적 함수\n",
    "            'num_class': len(set(pd.DataFrame(y_train_res))) + 1} # 파라미터 추가, Label must be in [0, num_class) -> num_class보다 1 커야한다.\n",
    "lgb_model2 = lgb.train(params = lgb_param2, train_set = lgb_dtrain2) # 학습 진행\n",
    "lgb_model2_predict = np.argmax(lgb_model2.predict(X_test), axis = 1) # 평가 데이터 예측, Softmax의 결과값 중 가장 큰 값의 Label로 예측\n",
    "model_evaluation(y_test, lgb_model2_predict) # 모델 분류 평가 결과"
   ]
  },
  {
   "cell_type": "markdown",
   "metadata": {},
   "source": [
    "# 그렇다면, Oversampling을 더 많이 해보자."
   ]
  },
  {
   "cell_type": "code",
   "execution_count": 27,
   "metadata": {},
   "outputs": [
    {
     "name": "stdout",
     "output_type": "stream",
     "text": [
      "Before OverSampling, counts of label '1': [391]\n",
      "Before OverSampling, counts of label '0': [227454] \n",
      "\n",
      "After OverSampling, counts of label '1': 136472\n",
      "After OverSampling, counts of label '0': 227454\n"
     ]
    }
   ],
   "source": [
    "print(\"Before OverSampling, counts of label '1': {}\".format(sum(y_train == 1))) # y_train 중 레이블 값이 1인 데이터의 개수\n",
    "print(\"Before OverSampling, counts of label '0': {} \\n\".format(sum(y_train == 0))) # y_train 중 레이블 값이 0 인 데이터의 개수\n",
    "\n",
    "sm2 = SMOTE(random_state = 42, sampling_strategy = 0.6) # SMOTE 알고리즘, 비율 60%\n",
    "X_train_res2, y_train_res2 = sm2.fit_resample(X_train, y_train.ravel()) # Over Sampling 진행\n",
    "\n",
    "print(\"After OverSampling, counts of label '1': {}\".format(sum(y_train_res2==1)))\n",
    "print(\"After OverSampling, counts of label '0': {}\".format(sum(y_train_res2==0)))"
   ]
  },
  {
   "cell_type": "code",
   "execution_count": 28,
   "metadata": {},
   "outputs": [
    {
     "name": "stderr",
     "output_type": "stream",
     "text": [
      "/Users/kimjuwon/opt/anaconda3/lib/python3.8/site-packages/lightgbm/engine.py:148: UserWarning: Found `n_estimators` in params. Will use it instead of argument\n",
      "  _log_warning(\"Found `{}` in params. Will use it instead of argument\".format(alias))\n"
     ]
    },
    {
     "name": "stdout",
     "output_type": "stream",
     "text": [
      "[LightGBM] [Warning] Accuracy may be bad since you didn't explicitly set num_leaves OR 2^max_depth > num_leaves. (num_leaves=31).\n",
      "[LightGBM] [Warning] Accuracy may be bad since you didn't explicitly set num_leaves OR 2^max_depth > num_leaves. (num_leaves=31).\n",
      "[LightGBM] [Warning] Auto-choosing col-wise multi-threading, the overhead of testing was 0.024795 seconds.\n",
      "You can set `force_col_wise=true` to remove the overhead.\n",
      "[LightGBM] [Info] Total Bins 7140\n",
      "[LightGBM] [Info] Number of data points in the train set: 363926, number of used features: 28\n",
      "[LightGBM] [Info] Start training from score -0.470003\n",
      "[LightGBM] [Info] Start training from score -0.980831\n",
      "Model_Evaluation with Label:1\n",
      "Accuracy:  0.99626066500474\n",
      "Precision:  0.3055555555555556\n",
      "Recall:  0.8712871287128713\n",
      "F1-Score:  0.45244215938303345\n"
     ]
    }
   ],
   "source": [
    "lgb_dtrain3 = lgb.Dataset(data = pd.DataFrame(X_train_res2), label = pd.DataFrame(y_train_res2)) # 학습 데이터를 LightGBM 모델에 맞게 변환\n",
    "lgb_param3 = {'max_depth': 10, # 트리 깊이\n",
    "            'learning_rate': 0.01, # Step Size\n",
    "            'n_estimators': 50, # Number of trees, 트리 생성 개수\n",
    "            'objective': 'multiclass', # 목적 함수\n",
    "            'num_class': len(set(pd.DataFrame(y_train_res2))) + 1} # 파라미터 추가, Label must be in [0, num_class) -> num_class보다 1 커야한다.\n",
    "lgb_model3 = lgb.train(params = lgb_param3, train_set = lgb_dtrain3) # 학습 진행\n",
    "lgb_model3_predict = np.argmax(lgb_model3.predict(X_test), axis = 1) # 평가 데이터 예측, Softmax의 결과값 중 가장 큰 값의 Label로 예측\n",
    "model_evaluation(y_test, lgb_model3_predict) # 모델 분류 평가 결과"
   ]
  },
  {
   "cell_type": "markdown",
   "metadata": {},
   "source": [
    "# 아예, 1:1 비율로 Oversampling을 해보자."
   ]
  },
  {
   "cell_type": "code",
   "execution_count": 30,
   "metadata": {},
   "outputs": [
    {
     "name": "stdout",
     "output_type": "stream",
     "text": [
      "Before OverSampling, counts of label '1': [391]\n",
      "Before OverSampling, counts of label '0': [227454] \n",
      "\n",
      "After OverSampling, counts of label '1': 227454\n",
      "After OverSampling, counts of label '0': 227454\n"
     ]
    }
   ],
   "source": [
    "print(\"Before OverSampling, counts of label '1': {}\".format(sum(y_train == 1))) # y_train 중 레이블 값이 1인 데이터의 개수\n",
    "print(\"Before OverSampling, counts of label '0': {} \\n\".format(sum(y_train == 0))) # y_train 중 레이블 값이 0 인 데이터의 개수\n",
    "\n",
    "sm3 = SMOTE(random_state = 42) # SMOTE 알고리즘, Default: 동등\n",
    "X_train_res3, y_train_res3 = sm3.fit_resample(X_train, y_train.ravel()) # Over Sampling 진행\n",
    "\n",
    "print(\"After OverSampling, counts of label '1': {}\".format(sum(y_train_res3==1)))\n",
    "print(\"After OverSampling, counts of label '0': {}\".format(sum(y_train_res3==0)))"
   ]
  },
  {
   "cell_type": "code",
   "execution_count": 31,
   "metadata": {},
   "outputs": [
    {
     "name": "stderr",
     "output_type": "stream",
     "text": [
      "/Users/kimjuwon/opt/anaconda3/lib/python3.8/site-packages/lightgbm/engine.py:148: UserWarning: Found `n_estimators` in params. Will use it instead of argument\n",
      "  _log_warning(\"Found `{}` in params. Will use it instead of argument\".format(alias))\n"
     ]
    },
    {
     "name": "stdout",
     "output_type": "stream",
     "text": [
      "[LightGBM] [Warning] Accuracy may be bad since you didn't explicitly set num_leaves OR 2^max_depth > num_leaves. (num_leaves=31).\n",
      "[LightGBM] [Warning] Accuracy may be bad since you didn't explicitly set num_leaves OR 2^max_depth > num_leaves. (num_leaves=31).\n",
      "[LightGBM] [Warning] Auto-choosing col-wise multi-threading, the overhead of testing was 0.023909 seconds.\n",
      "You can set `force_col_wise=true` to remove the overhead.\n",
      "[LightGBM] [Info] Total Bins 7140\n",
      "[LightGBM] [Info] Number of data points in the train set: 454908, number of used features: 28\n",
      "[LightGBM] [Info] Start training from score -0.693147\n",
      "[LightGBM] [Info] Start training from score -0.693147\n",
      "Model_Evaluation with Label:1\n",
      "Accuracy:  0.9835855482602437\n",
      "Precision:  0.08794466403162056\n",
      "Recall:  0.8811881188118812\n",
      "F1-Score:  0.15992812219227312\n"
     ]
    }
   ],
   "source": [
    "lgb_dtrain4 = lgb.Dataset(data = pd.DataFrame(X_train_res3), label = pd.DataFrame(y_train_res3)) # 학습 데이터를 LightGBM 모델에 맞게 변환\n",
    "lgb_param4 = {'max_depth': 10, # 트리 깊이\n",
    "            'learning_rate': 0.01, # Step Size\n",
    "            'n_estimators': 50, # Number of trees, 트리 생성 개수\n",
    "            'objective': 'multiclass', # 목적 함수\n",
    "            'num_class': len(set(pd.DataFrame(y_train_res3))) + 1} # 파라미터 추가, Label must be in [0, num_class) -> num_class보다 1 커야한다.\n",
    "lgb_model4 = lgb.train(params = lgb_param4, train_set = lgb_dtrain4) # 학습 진행\n",
    "lgb_model4_predict = np.argmax(lgb_model4.predict(X_test), axis = 1) # 평가 데이터 예측, Softmax의 결과값 중 가장 큰 값의 Label로 예측\n",
    "model_evaluation(y_test, lgb_model4_predict) # 모델 분류 평가 결과"
   ]
  },
  {
   "cell_type": "markdown",
   "metadata": {},
   "source": [
    "## 비율이 30%가 적당하다. 그럼 BLSM과 비교해보자!"
   ]
  },
  {
   "cell_type": "code",
   "execution_count": 34,
   "metadata": {},
   "outputs": [],
   "source": [
    "# BLSM (Borderline SMOTE)\n",
    "from imblearn.over_sampling import BorderlineSMOTE\n",
    "sm4 = BorderlineSMOTE(random_state = 42, sampling_strategy = 0.6) # BLSM 알고리즘 적용\n",
    "X_train_res4, y_train_res4 = sm4.fit_resample(X_train, y_train.ravel()) # Over Sampling 적용"
   ]
  },
  {
   "cell_type": "code",
   "execution_count": 35,
   "metadata": {},
   "outputs": [
    {
     "name": "stderr",
     "output_type": "stream",
     "text": [
      "/Users/kimjuwon/opt/anaconda3/lib/python3.8/site-packages/lightgbm/engine.py:148: UserWarning: Found `n_estimators` in params. Will use it instead of argument\n",
      "  _log_warning(\"Found `{}` in params. Will use it instead of argument\".format(alias))\n"
     ]
    },
    {
     "name": "stdout",
     "output_type": "stream",
     "text": [
      "[LightGBM] [Warning] Accuracy may be bad since you didn't explicitly set num_leaves OR 2^max_depth > num_leaves. (num_leaves=31).\n",
      "[LightGBM] [Warning] Accuracy may be bad since you didn't explicitly set num_leaves OR 2^max_depth > num_leaves. (num_leaves=31).\n",
      "[LightGBM] [Warning] Auto-choosing col-wise multi-threading, the overhead of testing was 0.024194 seconds.\n",
      "You can set `force_col_wise=true` to remove the overhead.\n",
      "[LightGBM] [Info] Total Bins 7140\n",
      "[LightGBM] [Info] Number of data points in the train set: 363926, number of used features: 28\n",
      "[LightGBM] [Info] Start training from score -0.470003\n",
      "[LightGBM] [Info] Start training from score -0.980831\n",
      "Model_Evaluation with Label:1\n",
      "Accuracy:  0.9976299989466662\n",
      "Precision:  0.4158415841584158\n",
      "Recall:  0.8316831683168316\n",
      "F1-Score:  0.5544554455445544\n"
     ]
    }
   ],
   "source": [
    "# 항상 같은게 아님 \n",
    "# 항상 BLSM이 좋은 것은 아님 \n",
    "# 알고있는것과 다른 경우가 꽤 존재. 많이 쓰는 데이터에 대한 결과 \n",
    "# 논문이 나올때 데이터에 피팅된 경우가 많음\n",
    "# 항상 올바르지 않음\n",
    "# 많은 경우 테스트 해보기 \n",
    "\n",
    "lgb_dtrain5 = lgb.Dataset(data = pd.DataFrame(X_train_res4), label = pd.DataFrame(y_train_res4)) # 학습 데이터를 LightGBM 모델에 맞게 변환\n",
    "lgb_param5 = {'max_depth': 10, # 트리 깊이\n",
    "            'learning_rate': 0.01, # Step Size\n",
    "            'n_estimators': 50, # Number of trees, 트리 생성 개수\n",
    "            'objective': 'multiclass', # 목적 함수\n",
    "            'num_class': len(set(pd.DataFrame(y_train_res4))) + 1} # 파라미터 추가, Label must be in [0, num_class) -> num_class보다 1 커야한다.\n",
    "lgb_model5 = lgb.train(params = lgb_param5, train_set = lgb_dtrain5) # 학습 진행\n",
    "lgb_model5_predict = np.argmax(lgb_model5.predict(X_test), axis = 1) # 평가 데이터 예측, Softmax의 결과값 중 가장 큰 값의 Label로 예측\n",
    "model_evaluation(y_test, lgb_model5_predict) # 모델 분류 평가 결과"
   ]
  },
  {
   "cell_type": "markdown",
   "metadata": {},
   "source": [
    "# BLSM보다 기본 SMOTE가 성능이 좋다. 이를 바탕으로 다양한 모델에 적용\n",
    "- 선형회귀(로지스틱), Random Forest, CatBoost"
   ]
  },
  {
   "cell_type": "code",
   "execution_count": 38,
   "metadata": {
    "scrolled": true
   },
   "outputs": [
    {
     "name": "stdout",
     "output_type": "stream",
     "text": [
      "Model_Evaluation with Label:1\n",
      "Accuracy:  0.992451107756048\n",
      "Precision:  0.1780821917808219\n",
      "Recall:  0.900990099009901\n",
      "F1-Score:  0.2973856209150327\n"
     ]
    }
   ],
   "source": [
    "# BLSM을 이용해서 Oversampling 한 학습 데이터 셋 : X_train_res2, y_train_res2\n",
    "# lasso를 보면 선형회귀는 맞지 않겠구나 ....!를 깨달아야함 \n",
    "# 데이터가 비선형적인 관계를 가지고 있기 때문에\n",
    "\n",
    "from sklearn.linear_model import LogisticRegression\n",
    "lr_model = LogisticRegression(C = 1e+10) \n",
    "# sklearn 의 Logistic Regression은 기본적으로 Ridge 정규화가 포함되어 있기 때문에, \n",
    "# 정규화 텀을 억제하는 C를 크게 적용한다 (C:Inverse of regularization strength)\n",
    "lr_model.fit(X_train_res, y_train_res) # 로지스틱 회귀 모형 학습\n",
    "lr_predict = lr_model.predict(X_test) # 학습 결과를 바탕으로 검증 데이터를 예측\n",
    "model_evaluation(y_test, lr_predict) # 모델 분류 평가 결과"
   ]
  },
  {
   "cell_type": "code",
   "execution_count": 39,
   "metadata": {},
   "outputs": [
    {
     "data": {
      "text/plain": [
       "511"
      ]
     },
     "execution_count": 39,
     "metadata": {},
     "output_type": "execute_result"
    }
   ],
   "source": [
    "np.sum(lr_predict==1)"
   ]
  },
  {
   "cell_type": "code",
   "execution_count": 41,
   "metadata": {},
   "outputs": [
    {
     "name": "stdout",
     "output_type": "stream",
     "text": [
      "Model_Evaluation with Label:1\n",
      "Accuracy:  0.992451107756048\n",
      "Precision:  0.1780821917808219\n",
      "Recall:  0.900990099009901\n",
      "F1-Score:  0.2973856209150327\n"
     ]
    }
   ],
   "source": [
    "# 라쏘 로지스틱 회귀모형 학습\n",
    "lasso_model = LogisticRegression(penalty = 'l1', solver='liblinear') # Penalty = l1 Regularizer, C = 1.0 (Default))\n",
    "lasso_model.fit(X_train_res, y_train_res) # 라쏘 로지스틱 회귀 모형 학습\n",
    "lasso_predict = lasso_model.predict(X_test) # 학습 결과를 바탕으로 검증 데이터를 예측\n",
    "model_evaluation(y_test, lasso_predict) # 모델 분류 평가 결과"
   ]
  },
  {
   "cell_type": "code",
   "execution_count": 42,
   "metadata": {},
   "outputs": [
    {
     "data": {
      "text/plain": [
       "511"
      ]
     },
     "execution_count": 42,
     "metadata": {},
     "output_type": "execute_result"
    }
   ],
   "source": [
    "np.sum(lasso_predict==1)\n"
   ]
  },
  {
   "cell_type": "code",
   "execution_count": 43,
   "metadata": {},
   "outputs": [
    {
     "name": "stdout",
     "output_type": "stream",
     "text": [
      "Model_Evaluation with Label:1\n",
      "Accuracy:  0.992451107756048\n",
      "Precision:  0.1780821917808219\n",
      "Recall:  0.900990099009901\n",
      "F1-Score:  0.2973856209150327\n"
     ]
    }
   ],
   "source": [
    "# 릿지 로지스틱 회귀모형 학습\n",
    "ridge_model = LogisticRegression(penalty = 'l2') # Default = LogisticRegression()\n",
    "ridge_model.fit(X_train_res, y_train_res) # 릿지 로지스틱 회귀 모형 학습\n",
    "ridge_predict = ridge_model.predict(X_test) # 학습 결과를 바탕으로 검증 데이터를 예측\n",
    "model_evaluation(y_test, ridge_predict) # 모델 분류 평가 결과"
   ]
  },
  {
   "cell_type": "code",
   "execution_count": 44,
   "metadata": {},
   "outputs": [
    {
     "data": {
      "text/plain": [
       "511"
      ]
     },
     "execution_count": 44,
     "metadata": {},
     "output_type": "execute_result"
    }
   ],
   "source": [
    "np.sum(ridge_predict==1)"
   ]
  },
  {
   "cell_type": "code",
   "execution_count": 45,
   "metadata": {},
   "outputs": [
    {
     "name": "stdout",
     "output_type": "stream",
     "text": [
      "Model_Evaluation with Label:1\n",
      "Accuracy:  0.9991748885221726\n",
      "Precision:  0.7288135593220338\n",
      "Recall:  0.8514851485148515\n",
      "F1-Score:  0.7853881278538813\n"
     ]
    }
   ],
   "source": [
    "# 여러번 시행해보고 어떤 모델의 성능이 제일 높게 나오는지 확인해보고 해당하는 것을 선택\n",
    "# Random Forest\n",
    "from sklearn.ensemble import RandomForestClassifier\n",
    "random_forest_model = RandomForestClassifier(n_estimators = 50, # 50번 추정\n",
    "                                             max_depth = 10, # 트리 최대 깊이 10\n",
    "                                             random_state = 42) # 시드값 고정\n",
    "rf_model = random_forest_model.fit(X_train_res, y_train_res) # 학습 진행\n",
    "rf_predict = rf_model.predict(X_test) # 평가 데이터 예측\n",
    "model_evaluation(y_test, rf_predict) # 모델 분류 평가 결과"
   ]
  },
  {
   "cell_type": "code",
   "execution_count": 46,
   "metadata": {
    "scrolled": true
   },
   "outputs": [
    {
     "name": "stdout",
     "output_type": "stream",
     "text": [
      "0:\tlearn: 0.9694748\ttotal: 226ms\tremaining: 11.1s\n",
      "1:\tlearn: 0.9711218\ttotal: 369ms\tremaining: 8.86s\n",
      "2:\tlearn: 0.9712368\ttotal: 574ms\tremaining: 8.99s\n",
      "3:\tlearn: 0.9719267\ttotal: 811ms\tremaining: 9.33s\n",
      "4:\tlearn: 0.9719740\ttotal: 1.01s\tremaining: 9.11s\n",
      "5:\tlearn: 0.9719301\ttotal: 1.24s\tremaining: 9.09s\n",
      "6:\tlearn: 0.9717610\ttotal: 1.41s\tremaining: 8.66s\n",
      "7:\tlearn: 0.9721025\ttotal: 1.58s\tremaining: 8.3s\n",
      "8:\tlearn: 0.9721296\ttotal: 1.75s\tremaining: 7.98s\n",
      "9:\tlearn: 0.9720552\ttotal: 1.93s\tremaining: 7.72s\n",
      "10:\tlearn: 0.9722818\ttotal: 2.11s\tremaining: 7.5s\n",
      "11:\tlearn: 0.9722243\ttotal: 2.29s\tremaining: 7.25s\n",
      "12:\tlearn: 0.9720484\ttotal: 2.46s\tremaining: 6.99s\n",
      "13:\tlearn: 0.9721634\ttotal: 2.63s\tremaining: 6.76s\n",
      "14:\tlearn: 0.9722175\ttotal: 2.79s\tremaining: 6.5s\n",
      "15:\tlearn: 0.9721161\ttotal: 2.95s\tremaining: 6.26s\n",
      "16:\tlearn: 0.9720992\ttotal: 3.11s\tremaining: 6.04s\n",
      "17:\tlearn: 0.9722243\ttotal: 3.25s\tremaining: 5.78s\n",
      "18:\tlearn: 0.9721905\ttotal: 3.38s\tremaining: 5.52s\n",
      "19:\tlearn: 0.9721803\ttotal: 3.51s\tremaining: 5.27s\n",
      "20:\tlearn: 0.9722277\ttotal: 3.65s\tremaining: 5.04s\n",
      "21:\tlearn: 0.9723359\ttotal: 3.78s\tremaining: 4.81s\n",
      "22:\tlearn: 0.9723291\ttotal: 3.92s\tremaining: 4.6s\n",
      "23:\tlearn: 0.9723731\ttotal: 4.06s\tremaining: 4.39s\n",
      "24:\tlearn: 0.9724441\ttotal: 4.2s\tremaining: 4.2s\n",
      "25:\tlearn: 0.9725320\ttotal: 4.34s\tremaining: 4s\n",
      "26:\tlearn: 0.9724779\ttotal: 4.47s\tremaining: 3.81s\n",
      "27:\tlearn: 0.9724915\ttotal: 4.6s\tremaining: 3.62s\n",
      "28:\tlearn: 0.9725016\ttotal: 4.74s\tremaining: 3.43s\n",
      "29:\tlearn: 0.9725895\ttotal: 4.87s\tremaining: 3.25s\n",
      "30:\tlearn: 0.9725287\ttotal: 5s\tremaining: 3.07s\n",
      "31:\tlearn: 0.9726369\ttotal: 5.14s\tremaining: 2.89s\n",
      "32:\tlearn: 0.9725557\ttotal: 5.27s\tremaining: 2.71s\n",
      "33:\tlearn: 0.9726470\ttotal: 5.41s\tremaining: 2.54s\n",
      "34:\tlearn: 0.9726335\ttotal: 5.55s\tremaining: 2.38s\n",
      "35:\tlearn: 0.9726673\ttotal: 5.7s\tremaining: 2.21s\n",
      "36:\tlearn: 0.9726944\ttotal: 5.84s\tremaining: 2.05s\n",
      "37:\tlearn: 0.9726572\ttotal: 5.98s\tremaining: 1.89s\n",
      "38:\tlearn: 0.9727113\ttotal: 6.11s\tremaining: 1.72s\n",
      "39:\tlearn: 0.9727789\ttotal: 6.24s\tremaining: 1.56s\n",
      "40:\tlearn: 0.9727722\ttotal: 6.37s\tremaining: 1.4s\n",
      "41:\tlearn: 0.9727857\ttotal: 6.51s\tremaining: 1.24s\n",
      "42:\tlearn: 0.9727755\ttotal: 6.65s\tremaining: 1.08s\n",
      "43:\tlearn: 0.9728026\ttotal: 6.8s\tremaining: 927ms\n",
      "44:\tlearn: 0.9728094\ttotal: 6.94s\tremaining: 771ms\n",
      "45:\tlearn: 0.9728804\ttotal: 7.09s\tremaining: 617ms\n",
      "46:\tlearn: 0.9728973\ttotal: 7.23s\tremaining: 461ms\n",
      "47:\tlearn: 0.9728026\ttotal: 7.36s\tremaining: 307ms\n",
      "48:\tlearn: 0.9728432\ttotal: 7.49s\tremaining: 153ms\n",
      "49:\tlearn: 0.9728094\ttotal: 7.62s\tremaining: 0us\n",
      "Model_Evaluation with Label:1\n",
      "Accuracy:  0.9983848881710614\n",
      "Precision:  0.5272727272727272\n",
      "Recall:  0.8613861386138614\n",
      "F1-Score:  0.6541353383458646\n"
     ]
    }
   ],
   "source": [
    "import catboost as cb\n",
    "cb_dtrain = cb.Pool(data = X_train_res, label = y_train_res) # 학습 데이터를 Catboost 모델에 맞게 변환\n",
    "cb_param = {'max_depth': 10, # 트리 깊이\n",
    "            'learning_rate': 0.01, # Step Size\n",
    "            'n_estimators': 50, # Number of trees, 트리 생성 개수\n",
    "            'eval_metric': 'Accuracy', # 평가 척도\n",
    "            'loss_function': 'MultiClass'} # 손실 함수, 목적 함수\n",
    "cb_model = cb.train(pool = cb_dtrain, params = cb_param) # 학습 진행\n",
    "cb_model_predict = np.argmax(cb_model.predict(X_test), axis = 1) # 평가 데이터 예측, Softmax의 결과값 중 가장 큰 값의 Label로 예측, 인덱스의 순서를 맞추기 위해 +1\n",
    "model_evaluation(y_test, cb_model_predict) # 모델 분류 평가 결과"
   ]
  },
  {
   "cell_type": "markdown",
   "metadata": {},
   "source": [
    "# Ensemble의 Ensemble\n",
    "- 성능이 가장 좋은 Random Forest 모델을 바탕으로 진행"
   ]
  },
  {
   "cell_type": "code",
   "execution_count": 50,
   "metadata": {
    "scrolled": true
   },
   "outputs": [
    {
     "name": "stderr",
     "output_type": "stream",
     "text": [
      "/var/folders/ny/2kfd2px527g1pqq7b25smqgr0000gn/T/ipykernel_88874/4007186221.py:10: DataConversionWarning: A column-vector y was passed when a 1d array was expected. Please change the shape of y to (n_samples,), for example using ravel().\n",
      "  rf_model2 = random_forest_model2.fit(X = pd.DataFrame(X_train_res).iloc[random_data_index, ],\n"
     ]
    },
    {
     "name": "stdout",
     "output_type": "stream",
     "text": [
      "1 Model Evaluation Result: \n",
      "\n",
      "Model_Evaluation with Label:1\n",
      "Accuracy:  0.9991924440855307\n",
      "Precision:  0.7350427350427351\n",
      "Recall:  0.8514851485148515\n",
      "F1-Score:  0.7889908256880734\n"
     ]
    },
    {
     "name": "stderr",
     "output_type": "stream",
     "text": [
      "/var/folders/ny/2kfd2px527g1pqq7b25smqgr0000gn/T/ipykernel_88874/4007186221.py:10: DataConversionWarning: A column-vector y was passed when a 1d array was expected. Please change the shape of y to (n_samples,), for example using ravel().\n",
      "  rf_model2 = random_forest_model2.fit(X = pd.DataFrame(X_train_res).iloc[random_data_index, ],\n"
     ]
    },
    {
     "name": "stdout",
     "output_type": "stream",
     "text": [
      "2 Model Evaluation Result: \n",
      "\n",
      "Model_Evaluation with Label:1\n",
      "Accuracy:  0.9992099996488887\n",
      "Precision:  0.7413793103448276\n",
      "Recall:  0.8514851485148515\n",
      "F1-Score:  0.792626728110599\n"
     ]
    },
    {
     "name": "stderr",
     "output_type": "stream",
     "text": [
      "/var/folders/ny/2kfd2px527g1pqq7b25smqgr0000gn/T/ipykernel_88874/4007186221.py:10: DataConversionWarning: A column-vector y was passed when a 1d array was expected. Please change the shape of y to (n_samples,), for example using ravel().\n",
      "  rf_model2 = random_forest_model2.fit(X = pd.DataFrame(X_train_res).iloc[random_data_index, ],\n"
     ]
    },
    {
     "name": "stdout",
     "output_type": "stream",
     "text": [
      "3 Model Evaluation Result: \n",
      "\n",
      "Model_Evaluation with Label:1\n",
      "Accuracy:  0.9992977774656788\n",
      "Precision:  0.7699115044247787\n",
      "Recall:  0.8613861386138614\n",
      "F1-Score:  0.8130841121495327\n"
     ]
    },
    {
     "name": "stderr",
     "output_type": "stream",
     "text": [
      "/var/folders/ny/2kfd2px527g1pqq7b25smqgr0000gn/T/ipykernel_88874/4007186221.py:10: DataConversionWarning: A column-vector y was passed when a 1d array was expected. Please change the shape of y to (n_samples,), for example using ravel().\n",
      "  rf_model2 = random_forest_model2.fit(X = pd.DataFrame(X_train_res).iloc[random_data_index, ],\n"
     ]
    },
    {
     "name": "stdout",
     "output_type": "stream",
     "text": [
      "4 Model Evaluation Result: \n",
      "\n",
      "Model_Evaluation with Label:1\n",
      "Accuracy:  0.9992275552122467\n",
      "Precision:  0.7478260869565218\n",
      "Recall:  0.8514851485148515\n",
      "F1-Score:  0.7962962962962963\n"
     ]
    },
    {
     "name": "stderr",
     "output_type": "stream",
     "text": [
      "/var/folders/ny/2kfd2px527g1pqq7b25smqgr0000gn/T/ipykernel_88874/4007186221.py:10: DataConversionWarning: A column-vector y was passed when a 1d array was expected. Please change the shape of y to (n_samples,), for example using ravel().\n",
      "  rf_model2 = random_forest_model2.fit(X = pd.DataFrame(X_train_res).iloc[random_data_index, ],\n"
     ]
    },
    {
     "name": "stdout",
     "output_type": "stream",
     "text": [
      "5 Model Evaluation Result: \n",
      "\n",
      "Model_Evaluation with Label:1\n",
      "Accuracy:  0.9991748885221726\n",
      "Precision:  0.7327586206896551\n",
      "Recall:  0.8415841584158416\n",
      "F1-Score:  0.7834101382488479\n"
     ]
    }
   ],
   "source": [
    "import random\n",
    "bagging_predict_result = [] # 빈 리스트 생성\n",
    "number_of_bagging = 5 # Bagging 횟수\n",
    "for _ in range(number_of_bagging):\n",
    "    data_index = [data_index for data_index in range(X_train_res.shape[0])] # 학습 데이터의 인덱스를 리스트로 변환\n",
    "    random_data_index = np.random.choice(data_index, X_train_res.shape[0]) # 복원추출을 의미 \n",
    "    random_forest_model2 = RandomForestClassifier(n_estimators = 50, # 50번 추정\n",
    "                                                 max_depth = 10, # 트리 최대 깊이 10\n",
    "                                                 random_state = 42) # 시드값 고정\n",
    "    rf_model2 = random_forest_model2.fit(X = pd.DataFrame(X_train_res).iloc[random_data_index, ],\n",
    "                                       y = pd.DataFrame(y_train_res).iloc[random_data_index]) # 학습 진행\n",
    "    rf_predict2 = rf_model2.predict(X_test) # 평가 데이터 예측\n",
    "    bagging_predict_result.append(rf_predict2) # 예측 결과를 bagging_predict_result에 저장\n",
    "    print(_+1, \"Model Evaluation Result:\", \"\\n\") # 전체적인 성능 평가\n",
    "    model_evaluation(y_test, rf_predict2) # 모델 분류 평가 결과"
   ]
  },
  {
   "cell_type": "markdown",
   "metadata": {},
   "source": [
    "# Bagging을 바탕으로 예측한 결과값에 대해 다수결로 예측"
   ]
  },
  {
   "cell_type": "code",
   "execution_count": 51,
   "metadata": {},
   "outputs": [
    {
     "name": "stdout",
     "output_type": "stream",
     "text": [
      "Model_Evaluation with Label:1\n",
      "Accuracy:  0.9992451107756047\n",
      "Precision:  0.7543859649122807\n",
      "Recall:  0.8514851485148515\n",
      "F1-Score:  0.8\n"
     ]
    }
   ],
   "source": [
    "bagging_predict = [] # 빈 리스트 생성\n",
    "for lst2_index in range(X_test.shape[0]): # 테스트 데이터 개수만큼 반복\n",
    "    temp_predict = [] # 반복문 내 임시 빈 리스트 생성\n",
    "    for lst_index in range(len(bagging_predict_result)): # Bagging 결과 리스트 개수 만큼 반복\n",
    "        temp_predict.append(bagging_predict_result[lst_index][lst2_index]) # 각 Bagging 결과 예측한 값 중 같은 인덱스를 리스트에 저장\n",
    "    if np.mean(temp_predict) >= 0.5: # 0, 1 이진분류이므로, 예측값의 평균이 0.5보다 크면 1, 아니면 0으로 예측 다수결)\n",
    "        bagging_predict.append(1)\n",
    "    elif np.mean(temp_predict) < 0.5: # 예측값의 평균이 0.5보다 낮으면 0으로 결과 저장\n",
    "        bagging_predict.append(0)\n",
    "model_evaluation(y_test, bagging_predict) # 모델 분류 평가 결과"
   ]
  },
  {
   "cell_type": "code",
   "execution_count": 52,
   "metadata": {},
   "outputs": [
    {
     "data": {
      "text/plain": [
       "array([0, 0, 0, ..., 0, 0, 0])"
      ]
     },
     "execution_count": 52,
     "metadata": {},
     "output_type": "execute_result"
    }
   ],
   "source": [
    "rf_model2.predict(X_test) "
   ]
  },
  {
   "cell_type": "code",
   "execution_count": 53,
   "metadata": {},
   "outputs": [
    {
     "data": {
      "text/plain": [
       "array([0.06912657, 0.03096096, 0.05346231, ..., 0.01346813, 0.02046453,\n",
       "       0.0062699 ])"
      ]
     },
     "execution_count": 53,
     "metadata": {},
     "output_type": "execute_result"
    }
   ],
   "source": [
    "rf_model2.predict_proba(X_test)[:,1] "
   ]
  },
  {
   "cell_type": "code",
   "execution_count": 54,
   "metadata": {},
   "outputs": [
    {
     "name": "stderr",
     "output_type": "stream",
     "text": [
      "/var/folders/ny/2kfd2px527g1pqq7b25smqgr0000gn/T/ipykernel_88874/1681420969.py:10: DataConversionWarning: A column-vector y was passed when a 1d array was expected. Please change the shape of y to (n_samples,), for example using ravel().\n",
      "  rf_model2 = random_forest_model2.fit(X = pd.DataFrame(X_train_res).iloc[random_data_index, ],\n"
     ]
    },
    {
     "name": "stdout",
     "output_type": "stream",
     "text": [
      "0\n"
     ]
    },
    {
     "name": "stderr",
     "output_type": "stream",
     "text": [
      "/var/folders/ny/2kfd2px527g1pqq7b25smqgr0000gn/T/ipykernel_88874/1681420969.py:10: DataConversionWarning: A column-vector y was passed when a 1d array was expected. Please change the shape of y to (n_samples,), for example using ravel().\n",
      "  rf_model2 = random_forest_model2.fit(X = pd.DataFrame(X_train_res).iloc[random_data_index, ],\n"
     ]
    },
    {
     "name": "stdout",
     "output_type": "stream",
     "text": [
      "1\n"
     ]
    },
    {
     "name": "stderr",
     "output_type": "stream",
     "text": [
      "/var/folders/ny/2kfd2px527g1pqq7b25smqgr0000gn/T/ipykernel_88874/1681420969.py:10: DataConversionWarning: A column-vector y was passed when a 1d array was expected. Please change the shape of y to (n_samples,), for example using ravel().\n",
      "  rf_model2 = random_forest_model2.fit(X = pd.DataFrame(X_train_res).iloc[random_data_index, ],\n"
     ]
    },
    {
     "name": "stdout",
     "output_type": "stream",
     "text": [
      "2\n"
     ]
    },
    {
     "name": "stderr",
     "output_type": "stream",
     "text": [
      "/var/folders/ny/2kfd2px527g1pqq7b25smqgr0000gn/T/ipykernel_88874/1681420969.py:10: DataConversionWarning: A column-vector y was passed when a 1d array was expected. Please change the shape of y to (n_samples,), for example using ravel().\n",
      "  rf_model2 = random_forest_model2.fit(X = pd.DataFrame(X_train_res).iloc[random_data_index, ],\n"
     ]
    },
    {
     "name": "stdout",
     "output_type": "stream",
     "text": [
      "3\n"
     ]
    },
    {
     "name": "stderr",
     "output_type": "stream",
     "text": [
      "/var/folders/ny/2kfd2px527g1pqq7b25smqgr0000gn/T/ipykernel_88874/1681420969.py:10: DataConversionWarning: A column-vector y was passed when a 1d array was expected. Please change the shape of y to (n_samples,), for example using ravel().\n",
      "  rf_model2 = random_forest_model2.fit(X = pd.DataFrame(X_train_res).iloc[random_data_index, ],\n"
     ]
    },
    {
     "name": "stdout",
     "output_type": "stream",
     "text": [
      "4\n"
     ]
    }
   ],
   "source": [
    "import random\n",
    "bagging_predict_result = 0 \n",
    "number_of_bagging = 5 # Bagging 횟수\n",
    "for i in range(number_of_bagging):\n",
    "    data_index = [data_index for data_index in range(X_train_res.shape[0])] # 학습 데이터의 인덱스를 리스트로 변환\n",
    "    random_data_index = np.random.choice(data_index, X_train_res.shape[0])  \n",
    "    random_forest_model2 = RandomForestClassifier(n_estimators = 50, # 50번 추정\n",
    "                                                 max_depth = 10, # 트리 최대 깊이 10\n",
    "                                                 random_state = 42) # 시드값 고정\n",
    "    rf_model2 = random_forest_model2.fit(X = pd.DataFrame(X_train_res).iloc[random_data_index, ],\n",
    "                                       y = pd.DataFrame(y_train_res).iloc[random_data_index]) # 학습 진행\n",
    "    rf_predict2 = rf_model2.predict_proba(X_test)[: , 1]\n",
    "    bagging_predict_result=bagging_predict_result+(rf_predict2) # 예측 결과를 bagging_predict_result에 저장\n",
    "    print(i)"
   ]
  },
  {
   "cell_type": "code",
   "execution_count": 55,
   "metadata": {},
   "outputs": [
    {
     "name": "stdout",
     "output_type": "stream",
     "text": [
      "Model_Evaluation with Label:1\n",
      "Accuracy:  0.9935746638109617\n",
      "Precision:  0.20090293453724606\n",
      "Recall:  0.8811881188118812\n",
      "F1-Score:  0.3272058823529412\n"
     ]
    }
   ],
   "source": [
    "pred= np.repeat(0,len(y_test))\n",
    "pred[bagging_predict_result /2 > 0.5]=1\n",
    "model_evaluation(y_test, pred) # 모델 분류 평가 결과"
   ]
  },
  {
   "cell_type": "code",
   "execution_count": 56,
   "metadata": {},
   "outputs": [
    {
     "name": "stdout",
     "output_type": "stream",
     "text": [
      "Model_Evaluation with Label:1\n",
      "Accuracy:  0.9935746638109617\n",
      "Precision:  0.20090293453724606\n",
      "Recall:  0.8811881188118812\n",
      "F1-Score:  0.3272058823529412\n"
     ]
    }
   ],
   "source": [
    "pred= np.repeat(0,len(y_test))\n",
    "pred[bagging_predict_result /2 > 0.5]=1\n",
    "model_evaluation(y_test, pred) # 모델 분류 평가 결과"
   ]
  },
  {
   "cell_type": "code",
   "execution_count": 57,
   "metadata": {},
   "outputs": [],
   "source": [
    "def cut_off(y,threshold):\n",
    "    Y =y.copy()\n",
    "    Y[Y >threshold]=1\n",
    "    Y[Y <=threshold]=0\n",
    "    return(Y.astype(int))"
   ]
  },
  {
   "cell_type": "code",
   "execution_count": 58,
   "metadata": {},
   "outputs": [],
   "source": [
    "threshold = np.arange(0,1,0.1)"
   ]
  },
  {
   "cell_type": "code",
   "execution_count": 59,
   "metadata": {},
   "outputs": [
    {
     "data": {
      "text/plain": [
       "array([0. , 0.1, 0.2, 0.3, 0.4, 0.5, 0.6, 0.7, 0.8, 0.9])"
      ]
     },
     "execution_count": 59,
     "metadata": {},
     "output_type": "execute_result"
    }
   ],
   "source": [
    "threshold"
   ]
  },
  {
   "cell_type": "code",
   "execution_count": 60,
   "metadata": {
    "scrolled": false
   },
   "outputs": [
    {
     "name": "stdout",
     "output_type": "stream",
     "text": [
      "0.0\n",
      "Model_Evaluation with Label:1\n",
      "Accuracy:  0.001773111899160844\n",
      "Precision:  0.001773111899160844\n",
      "Recall:  1.0\n",
      "F1-Score:  0.003539947076038764\n",
      "0.1\n",
      "Model_Evaluation with Label:1\n",
      "Accuracy:  0.8691232751659\n",
      "Precision:  0.012980132450331127\n",
      "Recall:  0.9702970297029703\n",
      "F1-Score:  0.02561756633119854\n",
      "0.2\n",
      "Model_Evaluation with Label:1\n",
      "Accuracy:  0.9522839787928795\n",
      "Precision:  0.03483825097760398\n",
      "Recall:  0.9702970297029703\n",
      "F1-Score:  0.06726149622512011\n",
      "0.30000000000000004\n",
      "Model_Evaluation with Label:1\n",
      "Accuracy:  0.9780379902391068\n",
      "Precision:  0.06961077844311377\n",
      "Recall:  0.9207920792079208\n",
      "F1-Score:  0.12943632567849683\n",
      "0.4\n",
      "Model_Evaluation with Label:1\n",
      "Accuracy:  0.9879393279730346\n",
      "Precision:  0.11948051948051948\n",
      "Recall:  0.9108910891089109\n",
      "F1-Score:  0.21125143513203215\n",
      "0.5\n",
      "Model_Evaluation with Label:1\n",
      "Accuracy:  0.9935746638109617\n",
      "Precision:  0.20090293453724606\n",
      "Recall:  0.8811881188118812\n",
      "F1-Score:  0.3272058823529412\n",
      "0.6000000000000001\n",
      "Model_Evaluation with Label:1\n",
      "Accuracy:  0.996278220568098\n",
      "Precision:  0.30662020905923343\n",
      "Recall:  0.8712871287128713\n",
      "F1-Score:  0.45360824742268036\n",
      "0.7000000000000001\n",
      "Model_Evaluation with Label:1\n",
      "Accuracy:  0.9977528878901724\n",
      "Precision:  0.43349753694581283\n",
      "Recall:  0.8712871287128713\n",
      "F1-Score:  0.5789473684210527\n",
      "0.8\n",
      "Model_Evaluation with Label:1\n",
      "Accuracy:  0.9983146659176293\n",
      "Precision:  0.514792899408284\n",
      "Recall:  0.8613861386138614\n",
      "F1-Score:  0.6444444444444444\n",
      "0.9\n",
      "Model_Evaluation with Label:1\n",
      "Accuracy:  0.9986657771847899\n",
      "Precision:  0.5838926174496645\n",
      "Recall:  0.8613861386138614\n",
      "F1-Score:  0.6960000000000001\n"
     ]
    }
   ],
   "source": [
    "for i in threshold :\n",
    "    pred_y = cut_off(bagging_predict_result /2 ,i)\n",
    "    print(i)\n",
    "    model_evaluation(y_test, pred_y)"
   ]
  },
  {
   "cell_type": "code",
   "execution_count": 61,
   "metadata": {},
   "outputs": [],
   "source": [
    "p_list=np.repeat(1/X_train_res.shape[0],X_train_res.shape[0])\n",
    "p_list[rf_model2.predict(X_train_res) != y_train_res]=p_list[rf_model2.predict(X_train_res) != y_train_res]*2"
   ]
  },
  {
   "cell_type": "code",
   "execution_count": 62,
   "metadata": {},
   "outputs": [
    {
     "data": {
      "text/plain": [
       "array([6.76384051e-06, 6.76384051e-06, 6.76384051e-06, ...,\n",
       "       6.76384051e-06, 6.76384051e-06, 6.76384051e-06])"
      ]
     },
     "execution_count": 62,
     "metadata": {},
     "output_type": "execute_result"
    }
   ],
   "source": [
    "p_list[rf_model2.predict(X_train_res) != y_train_res]"
   ]
  },
  {
   "cell_type": "code",
   "execution_count": 63,
   "metadata": {},
   "outputs": [],
   "source": [
    "p_list=p_list/sum(p_list)"
   ]
  },
  {
   "cell_type": "code",
   "execution_count": 64,
   "metadata": {},
   "outputs": [
    {
     "data": {
      "text/plain": [
       "0.9999999999979965"
      ]
     },
     "execution_count": 64,
     "metadata": {},
     "output_type": "execute_result"
    }
   ],
   "source": [
    "sum(p_list)"
   ]
  },
  {
   "cell_type": "code",
   "execution_count": 65,
   "metadata": {
    "scrolled": true
   },
   "outputs": [
    {
     "name": "stderr",
     "output_type": "stream",
     "text": [
      "/var/folders/ny/2kfd2px527g1pqq7b25smqgr0000gn/T/ipykernel_88874/1631058998.py:15: DataConversionWarning: A column-vector y was passed when a 1d array was expected. Please change the shape of y to (n_samples,), for example using ravel().\n",
      "  rf_model2 = random_forest_model2.fit(X = pd.DataFrame(X_train_res).iloc[random_data_index, ],\n"
     ]
    },
    {
     "name": "stdout",
     "output_type": "stream",
     "text": [
      "0\n"
     ]
    },
    {
     "name": "stderr",
     "output_type": "stream",
     "text": [
      "/var/folders/ny/2kfd2px527g1pqq7b25smqgr0000gn/T/ipykernel_88874/1631058998.py:15: DataConversionWarning: A column-vector y was passed when a 1d array was expected. Please change the shape of y to (n_samples,), for example using ravel().\n",
      "  rf_model2 = random_forest_model2.fit(X = pd.DataFrame(X_train_res).iloc[random_data_index, ],\n"
     ]
    },
    {
     "name": "stdout",
     "output_type": "stream",
     "text": [
      "1\n"
     ]
    },
    {
     "name": "stderr",
     "output_type": "stream",
     "text": [
      "/var/folders/ny/2kfd2px527g1pqq7b25smqgr0000gn/T/ipykernel_88874/1631058998.py:15: DataConversionWarning: A column-vector y was passed when a 1d array was expected. Please change the shape of y to (n_samples,), for example using ravel().\n",
      "  rf_model2 = random_forest_model2.fit(X = pd.DataFrame(X_train_res).iloc[random_data_index, ],\n"
     ]
    },
    {
     "name": "stdout",
     "output_type": "stream",
     "text": [
      "2\n"
     ]
    },
    {
     "name": "stderr",
     "output_type": "stream",
     "text": [
      "/var/folders/ny/2kfd2px527g1pqq7b25smqgr0000gn/T/ipykernel_88874/1631058998.py:15: DataConversionWarning: A column-vector y was passed when a 1d array was expected. Please change the shape of y to (n_samples,), for example using ravel().\n",
      "  rf_model2 = random_forest_model2.fit(X = pd.DataFrame(X_train_res).iloc[random_data_index, ],\n"
     ]
    },
    {
     "name": "stdout",
     "output_type": "stream",
     "text": [
      "3\n"
     ]
    },
    {
     "name": "stderr",
     "output_type": "stream",
     "text": [
      "/var/folders/ny/2kfd2px527g1pqq7b25smqgr0000gn/T/ipykernel_88874/1631058998.py:15: DataConversionWarning: A column-vector y was passed when a 1d array was expected. Please change the shape of y to (n_samples,), for example using ravel().\n",
      "  rf_model2 = random_forest_model2.fit(X = pd.DataFrame(X_train_res).iloc[random_data_index, ],\n"
     ]
    },
    {
     "name": "stdout",
     "output_type": "stream",
     "text": [
      "4\n"
     ]
    }
   ],
   "source": [
    "# for문을 이용하면 코드를 원하는 방향으로 코드를 바꿔줄 수 있다. \n",
    "import random\n",
    "bagging_predict_result = 0 # \n",
    "number_of_bagging = 5 # Bagging 횟수\n",
    "for i in range(number_of_bagging):\n",
    "    data_index = [data_index for data_index in range(X_train_res.shape[0])] # 학습 데이터의 인덱스를 리스트로 변환\n",
    "    if i ==0 : \n",
    "        plist= np.repeat(1/X_train_res.shape[0],X_train_res.shape[0])\n",
    "    else :\n",
    "        p_list=np.repeat(1/X_train_res.shape[0],X_train_res.shape[0])\n",
    "        p_list[rf_model2.predict(X_train_res) != y_train_res]=p_list[rf_model2.predict(X_train_res) != y_train_res]*2\n",
    "    random_data_index = np.random.choice(data_index, X_train_res.shape[0],p=plist) # \n",
    "    random_forest_model2 = RandomForestClassifier(n_estimators = 50, # 50번 추정\n",
    "                                                 max_depth = 10, # 트리 최대 깊이 10\n",
    "                                                 random_state = 42) # 시드값 고정\n",
    "    rf_model2 = random_forest_model2.fit(X = pd.DataFrame(X_train_res).iloc[random_data_index, ],\n",
    "                                       y = pd.DataFrame(y_train_res).iloc[random_data_index]) # 학습 진행\n",
    "    rf_predict2 = rf_model2.predict_proba(X_test)[: , 1]\n",
    "    bagging_predict_result=bagging_predict_result+(rf_predict2) # 예측 결과를 bagging_predict_result에 저장\n",
    "    print(i)"
   ]
  },
  {
   "cell_type": "code",
   "execution_count": 66,
   "metadata": {
    "scrolled": true
   },
   "outputs": [
    {
     "name": "stdout",
     "output_type": "stream",
     "text": [
      "0.0\n",
      "Model_Evaluation with Label:1\n",
      "Accuracy:  0.001773111899160844\n",
      "Precision:  0.001773111899160844\n",
      "Recall:  1.0\n",
      "F1-Score:  0.003539947076038764\n",
      "0.1\n",
      "Model_Evaluation with Label:1\n",
      "Accuracy:  0.8655770513675783\n",
      "Precision:  0.012641898864809082\n",
      "Recall:  0.9702970297029703\n",
      "F1-Score:  0.024958614542213167\n",
      "0.2\n",
      "Model_Evaluation with Label:1\n",
      "Accuracy:  0.9492819774586566\n",
      "Precision:  0.032214765100671144\n",
      "Recall:  0.9504950495049505\n",
      "F1-Score:  0.06231742940603701\n",
      "0.30000000000000004\n",
      "Model_Evaluation with Label:1\n",
      "Accuracy:  0.9777571012253783\n",
      "Precision:  0.06942392909896603\n",
      "Recall:  0.9306930693069307\n",
      "F1-Score:  0.12920962199312713\n",
      "0.4\n",
      "Model_Evaluation with Label:1\n",
      "Accuracy:  0.9878515501562445\n",
      "Precision:  0.11870967741935484\n",
      "Recall:  0.9108910891089109\n",
      "F1-Score:  0.2100456621004566\n",
      "0.5\n",
      "Model_Evaluation with Label:1\n",
      "Accuracy:  0.9936975527544679\n",
      "Precision:  0.2054794520547945\n",
      "Recall:  0.8910891089108911\n",
      "F1-Score:  0.3339517625231911\n",
      "0.6000000000000001\n",
      "Model_Evaluation with Label:1\n",
      "Accuracy:  0.9964888873283944\n",
      "Precision:  0.32\n",
      "Recall:  0.8712871287128713\n",
      "F1-Score:  0.4680851063829788\n",
      "0.7000000000000001\n",
      "Model_Evaluation with Label:1\n",
      "Accuracy:  0.9975773322565921\n",
      "Precision:  0.41232227488151657\n",
      "Recall:  0.8613861386138614\n",
      "F1-Score:  0.5576923076923076\n",
      "0.8\n",
      "Model_Evaluation with Label:1\n",
      "Accuracy:  0.9983322214809873\n",
      "Precision:  0.5178571428571429\n",
      "Recall:  0.8613861386138614\n",
      "F1-Score:  0.6468401486988848\n",
      "0.9\n",
      "Model_Evaluation with Label:1\n",
      "Accuracy:  0.9986657771847899\n",
      "Precision:  0.5838926174496645\n",
      "Recall:  0.8613861386138614\n",
      "F1-Score:  0.6960000000000001\n"
     ]
    }
   ],
   "source": [
    "for i in threshold :\n",
    "    pred_y = cut_off(bagging_predict_result /2 ,i)\n",
    "    print(i)\n",
    "    model_evaluation(y_test, pred_y)"
   ]
  }
 ],
 "metadata": {
  "kernelspec": {
   "display_name": "Python 3 (ipykernel)",
   "language": "python",
   "name": "python3"
  },
  "language_info": {
   "codemirror_mode": {
    "name": "ipython",
    "version": 3
   },
   "file_extension": ".py",
   "mimetype": "text/x-python",
   "name": "python",
   "nbconvert_exporter": "python",
   "pygments_lexer": "ipython3",
   "version": "3.8.11"
  }
 },
 "nbformat": 4,
 "nbformat_minor": 2
}
