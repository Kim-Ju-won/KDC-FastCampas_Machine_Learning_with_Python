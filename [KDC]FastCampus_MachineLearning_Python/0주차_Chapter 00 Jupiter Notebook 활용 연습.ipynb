{
 "cells": [
  {
   "cell_type": "code",
   "execution_count": 1,
   "id": "cc6dc1b5",
   "metadata": {},
   "outputs": [
    {
     "name": "stdout",
     "output_type": "stream",
     "text": [
      "3.141592653589793\n"
     ]
    }
   ],
   "source": [
    "import math\n",
    "print(math.pi)"
   ]
  },
  {
   "cell_type": "markdown",
   "id": "66177356",
   "metadata": {},
   "source": [
    "# 패스트 캠퍼스\n",
    "\n",
    "## 패스트 캠퍼스\n",
    "\n",
    "### 패스트 캠퍼스\n",
    "\n",
    "#### 패스트캠퍼스"
   ]
  },
  {
   "cell_type": "markdown",
   "id": "03f1780d",
   "metadata": {},
   "source": [
    "**패스트 캠퍼스** 머신러닝 0강 *수강 완료*\n",
    "\n",
    "- 할일 :\n",
    "  - 비교과:\n",
    "    1. 패스트 캠퍼스 인강 듣기\n",
    "    2. 블로그 포스팅 완료 \n",
    "    3. 학교 공부 \n",
    "    \n",
    "$y = x^2 + 2x + w$\n",
    "\n",
    "> 공부는 지식을 쌓는 행위가 아닌 세상의 해상도를 높이는 일이다.\n",
    "\n",
    "\n",
    "```python\n",
    "import math\n",
    "print(math.pi)\n",
    "```\n",
    "\n",
    "```c\n",
    "printf(\"Hello Word\");\n",
    "```"
   ]
  }
 ],
 "metadata": {
  "kernelspec": {
   "display_name": "Python 3 (ipykernel)",
   "language": "python",
   "name": "python3"
  },
  "language_info": {
   "codemirror_mode": {
    "name": "ipython",
    "version": 3
   },
   "file_extension": ".py",
   "mimetype": "text/x-python",
   "name": "python",
   "nbconvert_exporter": "python",
   "pygments_lexer": "ipython3",
   "version": "3.8.11"
  }
 },
 "nbformat": 4,
 "nbformat_minor": 5
}
